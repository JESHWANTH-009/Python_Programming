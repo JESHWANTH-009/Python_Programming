{
 "cells": [
  {
   "cell_type": "code",
   "execution_count": 7,
   "id": "8a37ba1e",
   "metadata": {},
   "outputs": [
    {
     "data": {
      "text/plain": [
       "Luhn(card_num='055444285', valid=True)"
      ]
     },
     "execution_count": 7,
     "metadata": {},
     "output_type": "execute_result"
    }
   ],
   "source": [
    "class Luhn:\n",
    "    def __init__(self, card_num):\n",
    "        \n",
    "        self.card_num=card_num.replace(\" \",\"\")\n",
    "        if not self.card_num.isdigit():\n",
    "            self.digit=[]\n",
    "        else:\n",
    "            self.digit=[int(i) for i in self.card_num]\n",
    "        \n",
    "\n",
    "    def valid(self):\n",
    "        if len(self.digit)<=1:\n",
    "            return False\n",
    "        \n",
    "        r=self.digit[::-1]\n",
    "        for i in range(1,len(r),2):\n",
    "            d=r[i]*2\n",
    "            if d>9:\n",
    "                d=d-9\n",
    "            r[i]=d\n",
    "        return sum(r)%10==0\n",
    "    def __repr__(self):\n",
    "        return f\"Luhn(card_num='{self.card_num}', valid={self.valid()})\"\n",
    "\n",
    "Luhn(\"055 444 285\")"
   ]
  },
  {
   "cell_type": "code",
   "execution_count": 9,
   "id": "703087d8",
   "metadata": {},
   "outputs": [
    {
     "name": "stdout",
     "output_type": "stream",
     "text": [
      "4\n",
      "{1, 3, 4, 5}\n"
     ]
    }
   ],
   "source": [
    "#atleast one commmon between\n",
    "n1=int(input())\n",
    "e_sub=set(map(int,input().split()))\n",
    "\n",
    "n2=int(input())\n",
    "f_sub=set(map(int,input().split()))\n",
    "t=e_sub.union(f_sub)\n",
    "print(len(t))\n",
    "print(t)\n",
    "\n"
   ]
  },
  {
   "cell_type": "code",
   "execution_count": 10,
   "id": "21f5207b",
   "metadata": {},
   "outputs": [
    {
     "data": {
      "text/plain": [
       "4"
      ]
     },
     "execution_count": 10,
     "metadata": {},
     "output_type": "execute_result"
    }
   ],
   "source": [
    "## counting 1 in binary no. of given decimal no.\n",
    "def egg_count(display_value):\n",
    "    c=0\n",
    "    while display_value>0:\n",
    "        \n",
    "        if display_value%2==1:\n",
    "            c+=1\n",
    "        display_value=display_value//2\n",
    "    return c\n",
    "egg_count(39)\n",
    "            "
   ]
  },
  {
   "cell_type": "code",
   "execution_count": 11,
   "id": "618dda32",
   "metadata": {},
   "outputs": [
    {
     "data": {
      "text/plain": [
       "[2, 3, 5, 7, 11, 13]"
      ]
     },
     "execution_count": 11,
     "metadata": {},
     "output_type": "execute_result"
    }
   ],
   "source": [
    "def primes(limit):\n",
    "    a=[]\n",
    "    i=2\n",
    "    \n",
    "    while i<=limit:\n",
    "        c=0\n",
    "        for j in range(2,i):\n",
    "            if i%j==0:\n",
    "                c+=1\n",
    "        if c==0:\n",
    "            a.append(i)\n",
    "        \n",
    "        i+=1\n",
    "    return a\n",
    "primes(13)"
   ]
  },
  {
   "cell_type": "code",
   "execution_count": 16,
   "id": "f114c7c7",
   "metadata": {},
   "outputs": [
    {
     "name": "stdout",
     "output_type": "stream",
     "text": [
      "2\n",
      "{1, 4}\n"
     ]
    }
   ],
   "source": [
    "# common in both\n",
    "a=[1,4,2,6]\n",
    "e_sub=set(a)\n",
    "\n",
    "b=[1,4,3,5]\n",
    "f_sub=set(b)\n",
    "t=e_sub.intersection(f_sub)\n",
    "print(len(t))\n",
    "print(t)\n"
   ]
  },
  {
   "cell_type": "code",
   "execution_count": 22,
   "id": "dd75f28b",
   "metadata": {},
   "outputs": [
    {
     "name": "stdout",
     "output_type": "stream",
     "text": [
      "70\n",
      "[70, 50, 30]\n",
      "70\n"
     ]
    }
   ],
   "source": [
    "class HighScores:\n",
    "    def __init__(self, scores):\n",
    "        self.scores=scores\n",
    "    def personal_best(self):\n",
    "        return max(self.scores)\n",
    "    def latest(self):\n",
    "        return self.scores[-1]\n",
    "    def personal_top_three(self):\n",
    "        return sorted(self.scores, reverse=True)[:3]\n",
    "    \n",
    "scores = [30, 50, 20, 70]\n",
    "print(HighScores(scores).personal_best())\n",
    "print(HighScores(scores).personal_top_three())\n",
    "print(HighScores(scores).latest())"
   ]
  },
  {
   "cell_type": "code",
   "execution_count": 26,
   "id": "6085c77e",
   "metadata": {},
   "outputs": [
    {
     "name": "stdout",
     "output_type": "stream",
     "text": [
      "2\n",
      "{2, 6}\n",
      "4\n",
      "{2, 3, 5, 6}\n"
     ]
    }
   ],
   "source": [
    "a=[1,4,2,6]\n",
    "s1=set(a)\n",
    "\n",
    "b=[1,4,3,5]\n",
    "s2=set(b)\n",
    "s=s1.difference(s2)\n",
    "print(len(s))\n",
    "print(s)\n",
    "a=s1.symmetric_difference(s2)\n",
    "print(len(a))\n",
    "print(a)"
   ]
  },
  {
   "cell_type": "code",
   "execution_count": null,
   "id": "04c81a98",
   "metadata": {},
   "outputs": [
    {
     "name": "stdout",
     "output_type": "stream",
     "text": [
      "1294\n"
     ]
    }
   ],
   "source": [
    "#set operations\n",
    "#n=int(input())\n",
    "s={1,2,3,4,5,7,99,88}\n",
    "n2=int(input())\n",
    "for i in range(n2):\n",
    "    c=input().split()\n",
    "    s2=set(map(int,input().split()))\n",
    "    if(c[0]==\"intersection_update\"):\n",
    "        s.intersection_update(s2)\n",
    "    elif(c[0]==\"update\"):\n",
    "        s.update(s2)\n",
    "    elif(c[0]==\"symmetric_difference_update\"):\n",
    "        s.symmetric_difference_update(s2)\n",
    "    elif(c[0]==\"difference_update\"):\n",
    "        s.difference_update(s2)\n",
    "print(sum(s))"
   ]
  },
  {
   "cell_type": "code",
   "execution_count": 35,
   "id": "24d6044d",
   "metadata": {},
   "outputs": [
    {
     "name": "stdout",
     "output_type": "stream",
     "text": [
      "7\n"
     ]
    }
   ],
   "source": [
    "# captain room if no.not repated n times and only once it is \n",
    "n=5\n",
    "l=[1,2,3,6,5,4,4,2,5,3,6,1,6,5,3,2,4,7,1,2,5,1,4,3,6,8,4,3,1,5,6,2 ]\n",
    "a={}\n",
    "for i in l:\n",
    "    if i in a:\n",
    "        a[i]+=1\n",
    "    else:\n",
    "        a[i]=1\n",
    "for i in a:\n",
    "    if a[i]==1:\n",
    "        print(i)\n",
    "        break"
   ]
  },
  {
   "cell_type": "code",
   "execution_count": 40,
   "id": "9515b93b",
   "metadata": {},
   "outputs": [
    {
     "name": "stdout",
     "output_type": "stream",
     "text": [
      "23:59\n",
      "Clock(23, 59)\n",
      "00:01\n"
     ]
    }
   ],
   "source": [
    "class Clock:\n",
    "    def __init__(self, hour, minute):\n",
    "        min=(hour*60+minute)%(24*60)\n",
    "        self.hour=min//60\n",
    "        self.minute=min%60\n",
    "\n",
    "    def __repr__(self):\n",
    "        return f'Clock({self.hour}, {self.minute})'\n",
    "        \n",
    "\n",
    "    def __str__(self):\n",
    "        return f'{self.hour:02d}:{self.minute:02d}'\n",
    "        \n",
    "\n",
    "    def __eq__(self, other):\n",
    "        return (self.hour==other.hour) and (self.minute==other.minute)\n",
    "\n",
    "    def __add__(self, minutes):\n",
    "        return Clock(self.hour,self.minute+minutes)\n",
    "\n",
    "    def __sub__(self, minutes):\n",
    "        return Clock(self.hour,self.minute-minutes)\n",
    "clock = Clock(23, 59)\n",
    "print(clock)              \n",
    "print(repr(clock))        \n",
    "new= clock.__add__(2)\n",
    "print(new)     "
   ]
  },
  {
   "cell_type": "code",
   "execution_count": 45,
   "id": "f7bae358",
   "metadata": {},
   "outputs": [
    {
     "name": "stdout",
     "output_type": "stream",
     "text": [
      "False\n",
      "True\n"
     ]
    }
   ],
   "source": [
    "a=[1,4,2,6]\n",
    "s1=set(a)\n",
    "\n",
    "b=[1,4]\n",
    "s2=set(b)\n",
    "print(s.issubset(s2))\n",
    "result=True\n",
    "if not s.issuperset(s2) and s1!=s2:\n",
    "        result=False\n",
    "        \n",
    "print(result)"
   ]
  },
  {
   "cell_type": "code",
   "execution_count": 47,
   "id": "b6ca5fde",
   "metadata": {},
   "outputs": [
    {
     "name": "stdout",
     "output_type": "stream",
     "text": [
      "1\n"
     ]
    }
   ],
   "source": [
    "# 1 array 2 sets if a likes add 1 dislike -1\n",
    "h=0\n",
    "l=[1,2,3,4,6,5,7]\n",
    "s={9,3,4}\n",
    "s2={5,10,19}\n",
    "for i in l:\n",
    "    if i in s:\n",
    "        h+=1\n",
    "    elif i in s2:\n",
    "        h-=1\n",
    "print(h)"
   ]
  },
  {
   "cell_type": "code",
   "execution_count": null,
   "id": "e9ade737",
   "metadata": {},
   "outputs": [],
   "source": []
  }
 ],
 "metadata": {
  "kernelspec": {
   "display_name": ".venv",
   "language": "python",
   "name": "python3"
  },
  "language_info": {
   "codemirror_mode": {
    "name": "ipython",
    "version": 3
   },
   "file_extension": ".py",
   "mimetype": "text/x-python",
   "name": "python",
   "nbconvert_exporter": "python",
   "pygments_lexer": "ipython3",
   "version": "3.10.11"
  }
 },
 "nbformat": 4,
 "nbformat_minor": 5
}

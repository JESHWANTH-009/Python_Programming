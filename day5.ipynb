{
 "cells": [
  {
   "cell_type": "code",
   "execution_count": 1,
   "id": "ad2cc99a",
   "metadata": {},
   "outputs": [
    {
     "data": {
      "text/plain": [
       "[[200, 375, 425]]"
      ]
     },
     "execution_count": 1,
     "metadata": {},
     "output_type": "execute_result"
    }
   ],
   "source": [
    "def triplets_with_sum(number):\n",
    "    a=[]\n",
    "    for i in range(1,number//3):\n",
    "        for j in range(i,(number-i)//2):\n",
    "            k=number-i-j\n",
    "            if i**2+j**2==k**2:\n",
    "                a.append([i,j,k])\n",
    "    return sorted(a)\n",
    "triplets_with_sum(1000)"
   ]
  },
  {
   "cell_type": "code",
   "execution_count": 3,
   "id": "c7843fe3",
   "metadata": {},
   "outputs": [
    {
     "data": {
      "text/plain": [
       "7"
      ]
     },
     "execution_count": 3,
     "metadata": {},
     "output_type": "execute_result"
    }
   ],
   "source": [
    "def distance(strand_a, strand_b):\n",
    "    count=0\n",
    "    if len(strand_a)!=len(strand_b):\n",
    "        raise ValueError(\"Strands must be of equal length.\")\n",
    "    \n",
    "        \n",
    "    for i in range(len(strand_a)):\n",
    "        if strand_a[i]!=strand_b[i]:\n",
    "                count+=1\n",
    "    return count\n",
    "a=\"GAGCCTACTAACGGGAT\"\n",
    "b=\"CATCGTAATGACGGCCT\"\n",
    "distance(a,b)"
   ]
  },
  {
   "cell_type": "code",
   "execution_count": 14,
   "id": "467c6101",
   "metadata": {},
   "outputs": [
    {
     "name": "stdout",
     "output_type": "stream",
     "text": [
      "    A    \n",
      "   B B   \n",
      "  C   C  \n",
      " D     D \n",
      "E       E\n",
      " D     D \n",
      "  C   C  \n",
      "   B B   \n",
      "    A    \n"
     ]
    }
   ],
   "source": [
    "def rows(letter):\n",
    "    n=ord(letter)\n",
    "    m=n-64\n",
    "    for i in range(1,m+1):\n",
    "        for j in range(1,2*m):\n",
    "            if j==m-i+1 or j==m+i-1:\n",
    "                print(chr(i+64),end=\"\")\n",
    "            else:\n",
    "                print(\" \",end=\"\")\n",
    "        print()\n",
    "    for i in range(m-1,0,-1):\n",
    "        for j in range(1,2*m):\n",
    "            if j==m-i+1 or j==m+i-1:\n",
    "                print(chr(i+64),end=\"\")\n",
    "            else:\n",
    "                print(\" \",end=\"\")\n",
    "        print()\n",
    "            \n",
    "\n",
    "\n",
    "rows(\"E\")          "
   ]
  },
  {
   "cell_type": "code",
   "execution_count": 15,
   "id": "a9ed417d",
   "metadata": {},
   "outputs": [
    {
     "data": {
      "text/plain": [
       "'AGCUGGCUCA'"
      ]
     },
     "execution_count": 15,
     "metadata": {},
     "output_type": "execute_result"
    }
   ],
   "source": [
    "def to_rna(dna_strand):\n",
    "    c=dna_strand\n",
    "    s=\"\"\n",
    "    for i in c:\n",
    "        if i==\"G\":\n",
    "            s=s+\"C\"\n",
    "            \n",
    "        elif i==\"C\":\n",
    "            s= s+\"G\"\n",
    "        elif i==\"T\":\n",
    "            s= s+\"A\"\n",
    "        elif i==\"A\":\n",
    "            s= s+\"U\"\n",
    "        elif i==\"\":\n",
    "            s=s+\"\"\n",
    "    return s\n",
    "    \n",
    "'''(G -C\n",
    "C - G\n",
    "T - A\n",
    "A - U)'''\n",
    "to_rna(\"TCGACCGAGT\")\n"
   ]
  },
  {
   "cell_type": "code",
   "execution_count": 17,
   "id": "0e540ef5",
   "metadata": {},
   "outputs": [
    {
     "name": "stdout",
     "output_type": "stream",
     "text": [
      "True\n"
     ]
    }
   ],
   "source": [
    "class Queen:\n",
    "    def __init__(self, row, column):\n",
    "        if row<0:\n",
    "            raise ValueError(\"row not positive\")\n",
    "        if row>7:\n",
    "            raise ValueError(\"row not on board\")\n",
    "        if column<0:\n",
    "            raise ValueError(\"column not positive\")\n",
    "        if column>7:\n",
    "            raise ValueError(\"column not on board\")\n",
    "        \n",
    "        self.row=row\n",
    "        self.column=column\n",
    "        \n",
    "\n",
    "    def can_attack(self, another_queen):\n",
    "        if self.row==another_queen.row and self.column==another_queen.column:\n",
    "            raise ValueError(\"Invalid queen position: both queens in the same square\")\n",
    "        if self.row==another_queen.row:\n",
    "            return True\n",
    "        if self.column==another_queen.column:\n",
    "            return True\n",
    "        if abs(self.row-another_queen.row)==abs(self.column-another_queen.column):\n",
    "            return True\n",
    "        return False\n",
    "       \n",
    "queen1 = Queen(4, 2)\n",
    "queen2 = Queen(6, 4)\n",
    "print(queen1.can_attack(queen2))"
   ]
  }
 ],
 "metadata": {
  "kernelspec": {
   "display_name": ".venv",
   "language": "python",
   "name": "python3"
  },
  "language_info": {
   "codemirror_mode": {
    "name": "ipython",
    "version": 3
   },
   "file_extension": ".py",
   "mimetype": "text/x-python",
   "name": "python",
   "nbconvert_exporter": "python",
   "pygments_lexer": "ipython3",
   "version": "3.10.11"
  }
 },
 "nbformat": 4,
 "nbformat_minor": 5
}

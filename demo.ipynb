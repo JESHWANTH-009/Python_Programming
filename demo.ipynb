{
 "cells": [
  {
   "cell_type": "code",
   "execution_count": 14,
   "id": "1a4a934e",
   "metadata": {},
   "outputs": [
    {
     "name": "stdout",
     "output_type": "stream",
     "text": [
      "30\n"
     ]
    }
   ],
   "source": [
    "a=10\n",
    "b=20\n",
    "print(a+b)"
   ]
  },
  {
   "cell_type": "code",
   "execution_count": 12,
   "id": "b06b6b98",
   "metadata": {},
   "outputs": [
    {
     "name": "stdout",
     "output_type": "stream",
     "text": [
      "max is b133\n"
     ]
    }
   ],
   "source": [
    "def maxof(a,b,c):\n",
    "    if (a>b and a>c):\n",
    "        print(\"max is a\"+str(a))\n",
    "    elif(b>a and b>c):\n",
    "        print(\"max is b\"+str(b))\n",
    "    else:\n",
    "        print(\"max is c\"+str(c))\n",
    "a=int(input(\"enter\"))\n",
    "b=int(input(\"enter\"))\n",
    "c=int(input(\"enter\"))\n",
    "maxof(a,b,c)\n",
    "\n",
    "\n"
   ]
  },
  {
   "cell_type": "code",
   "execution_count": null,
   "id": "15ab00a8",
   "metadata": {},
   "outputs": [],
   "source": [
    "a=int(input())"
   ]
  },
  {
   "cell_type": "code",
   "execution_count": 2,
   "id": "f6a0878d",
   "metadata": {},
   "outputs": [
    {
     "name": "stdout",
     "output_type": "stream",
     "text": [
      "odd\n"
     ]
    }
   ],
   "source": [
    "def even(a):\n",
    "    if a%2==0:\n",
    "        print(\"even\")\n",
    "    else:\n",
    "        print(\"odd\")\n",
    "n=int(input())\n",
    "even(n)"
   ]
  },
  {
   "cell_type": "code",
   "execution_count": 5,
   "id": "15497448",
   "metadata": {},
   "outputs": [
    {
     "name": "stdout",
     "output_type": "stream",
     "text": [
      "positive\n"
     ]
    }
   ],
   "source": [
    "def num(a):\n",
    "    if a>0:\n",
    "        print(\"positive\")\n",
    "    elif(a<0):\n",
    "        print(\"negative\")\n",
    "    else :\n",
    "        print(\"Zero\")\n",
    "a=int(input())\n",
    "num(a)"
   ]
  },
  {
   "cell_type": "code",
   "execution_count": 6,
   "id": "f938784c",
   "metadata": {},
   "outputs": [
    {
     "name": "stdout",
     "output_type": "stream",
     "text": [
      "6 5\n"
     ]
    }
   ],
   "source": [
    "def swap(a,b):\n",
    "    temp=a\n",
    "    a=b\n",
    "    b=temp\n",
    "    print(a,b)\n",
    "a=int(input())\n",
    "b=int(input())\n",
    "swap(a,b)\n",
    "    "
   ]
  },
  {
   "cell_type": "code",
   "execution_count": 9,
   "id": "6a986ae6",
   "metadata": {},
   "outputs": [
    {
     "name": "stdout",
     "output_type": "stream",
     "text": [
      "Factorial is: 6\n"
     ]
    }
   ],
   "source": [
    "def fact(n):\n",
    "    f=1\n",
    "    for i in range(1,n+1):\n",
    "        f=f*i\n",
    "    print(\"Factorial is:\",f)\n",
    "n=int(input())\n",
    "fact(n)"
   ]
  },
  {
   "cell_type": "code",
   "execution_count": 17,
   "id": "75ede0eb",
   "metadata": {},
   "outputs": [
    {
     "name": "stdout",
     "output_type": "stream",
     "text": [
      "0 1 1 2 3 5 8 "
     ]
    }
   ],
   "source": [
    "def fibinoci(n):\n",
    "    a=0\n",
    "    b=1\n",
    "    print(a,b,end=\" \")\n",
    "    for i in range(n):\n",
    "        f=a+b\n",
    "        print(f,end=\" \")\n",
    "        a=b\n",
    "        b=f\n",
    "\n",
    "        f=a+b\n",
    "    \n",
    "n=int(input())\n",
    "fibinoci(n)\n"
   ]
  },
  {
   "cell_type": "code",
   "execution_count": 34,
   "id": "667325ba",
   "metadata": {},
   "outputs": [
    {
     "name": "stdout",
     "output_type": "stream",
     "text": [
      "not prime\n"
     ]
    }
   ],
   "source": [
    "def prime(n):\n",
    "    count=0\n",
    "    for i in range(2,n):\n",
    "        if n%i==0:\n",
    "            count+=1\n",
    "    if count==0:\n",
    "        print(\"prime\")\n",
    "    else:\n",
    "        print(\"not prime\")\n",
    "        \n",
    "n=int(input())\n",
    "prime(n)"
   ]
  },
  {
   "cell_type": "code",
   "execution_count": 25,
   "id": "c03a8b4b",
   "metadata": {},
   "outputs": [
    {
     "name": "stdout",
     "output_type": "stream",
     "text": [
      "sum of list is: 34\n"
     ]
    }
   ],
   "source": [
    "l=[1,3,4,5,6,7,8]\n",
    "n=len(l)\n",
    "s=0\n",
    "for i in range(n):\n",
    "    s+=l[i]\n",
    "print(\"sum of list is:\",s)"
   ]
  },
  {
   "cell_type": "code",
   "execution_count": 26,
   "id": "11264921",
   "metadata": {},
   "outputs": [
    {
     "name": "stdout",
     "output_type": "stream",
     "text": [
      "largest in list is: 88\n"
     ]
    }
   ],
   "source": [
    "l=[6,4,67,7,78,0,88,8]\n",
    "n=len(l)\n",
    "largest=-9999\n",
    "for i in range(n):\n",
    "    if largest<l[i]:\n",
    "        largest=l[i]\n",
    "print(\"largest in list is:\",largest)\n"
   ]
  },
  {
   "cell_type": "code",
   "execution_count": 28,
   "id": "768bd30c",
   "metadata": {},
   "outputs": [
    {
     "name": "stdout",
     "output_type": "stream",
     "text": [
      "reverse string is: IAS\n"
     ]
    }
   ],
   "source": [
    "a=\"SAI\"\n",
    "r=\"\"\n",
    "for i in a:\n",
    "    r=i+r\n",
    "print(\"reverse string is:\",r)"
   ]
  },
  {
   "cell_type": "code",
   "execution_count": 29,
   "id": "b8f5ecf0",
   "metadata": {},
   "outputs": [
    {
     "name": "stdout",
     "output_type": "stream",
     "text": [
      "String Palindrome\n"
     ]
    }
   ],
   "source": [
    "a=\"OWO\"\n",
    "r=\"\"\n",
    "for i in a:\n",
    "    r=i+r\n",
    "if a==r:\n",
    "    print(\"String Palindrome\")\n",
    "else:\n",
    "    print(\"Not palindrome\")"
   ]
  },
  {
   "cell_type": "code",
   "execution_count": 32,
   "id": "8e79faee",
   "metadata": {},
   "outputs": [
    {
     "name": "stdout",
     "output_type": "stream",
     "text": [
      "2\n"
     ]
    }
   ],
   "source": [
    "def vowels(s):\n",
    "    c=0\n",
    "\n",
    "    v=\"A\", \"E\" , \"I\" , \"O\" ,\"U\",\"a\",\"e\",\"i\",\"o\",\"u\"\n",
    "    for i in s:\n",
    "        if i in v:\n",
    "            c+=1\n",
    "    print(c)\n",
    "\n",
    "s=\"APPLe\"\n",
    "vowels(s)\n"
   ]
  },
  {
   "cell_type": "code",
   "execution_count": 33,
   "id": "4c11db09",
   "metadata": {},
   "outputs": [
    {
     "name": "stdout",
     "output_type": "stream",
     "text": [
      "length of string  5\n"
     ]
    }
   ],
   "source": [
    "a=\"APPLE\"\n",
    "n=0\n",
    "for i in a:\n",
    "    n+=1\n",
    "print(\"length of string \",n)\n"
   ]
  },
  {
   "cell_type": "code",
   "execution_count": 41,
   "id": "94773a11",
   "metadata": {},
   "outputs": [
    {
     "name": "stdout",
     "output_type": "stream",
     "text": [
      "[3, 5, 7, 11, 13, 17, 19, 23, 29, 31, 37, 41, 43, 47, 53, 59, 61, 67, 71, 73, 79, 83, 89, 97]\n"
     ]
    }
   ],
   "source": [
    "n=int(input())\n",
    "l=[]\n",
    "if n==0 or n==1 or n==2:\n",
    "    print(\"no prime\")\n",
    "\n",
    "else:\n",
    "    for i in range(3,n+1):\n",
    "        c=0\n",
    "        for j in range(2,i):\n",
    "            if i%j==0:\n",
    "                c+=1\n",
    "        if c==0:\n",
    "            l.append(i)\n",
    "    print(l)\n"
   ]
  },
  {
   "cell_type": "code",
   "execution_count": 42,
   "id": "76b45fe0",
   "metadata": {},
   "outputs": [
    {
     "data": {
      "text/plain": [
       "25"
      ]
     },
     "execution_count": 42,
     "metadata": {},
     "output_type": "execute_result"
    }
   ],
   "source": [
    "def square(n):\n",
    "    return n*n\n",
    "n=int(input())\n",
    "square(n)"
   ]
  },
  {
   "cell_type": "code",
   "execution_count": 44,
   "id": "08dbf4ba",
   "metadata": {},
   "outputs": [
    {
     "name": "stdout",
     "output_type": "stream",
     "text": [
      "Greater is 6\n"
     ]
    }
   ],
   "source": [
    "def great(a,b):\n",
    "    if a>b:\n",
    "        print(\"Greater is\",a)\n",
    "    else:\n",
    "        print(\"Greater is\",b)\n",
    "a=int(input())\n",
    "b=int(input())\n",
    "great(a,b)"
   ]
  },
  {
   "cell_type": "code",
   "execution_count": 45,
   "id": "a320acf0",
   "metadata": {},
   "outputs": [
    {
     "data": {
      "text/plain": [
       "True"
      ]
     },
     "execution_count": 45,
     "metadata": {},
     "output_type": "execute_result"
    }
   ],
   "source": [
    "def evenodd(n):\n",
    "    if n%2==0:\n",
    "        return True\n",
    "    else:\n",
    "        return False\n",
    "n=int(input())\n",
    "evenodd(n)"
   ]
  },
  {
   "cell_type": "code",
   "execution_count": 47,
   "id": "55e6de3d",
   "metadata": {},
   "outputs": [
    {
     "name": "stdout",
     "output_type": "stream",
     "text": [
      "SAiAS It is palindrome\n"
     ]
    }
   ],
   "source": [
    "def palindrome(s):\n",
    "    r=\"\"\n",
    "    for i in s:\n",
    "        r=i+r\n",
    "    if r==s:\n",
    "        print(s,\"It is palindrome\")\n",
    "    else:\n",
    "        print(\"Not palindrome\")\n",
    "s=str(input())\n",
    "palindrome(s)\n"
   ]
  },
  {
   "cell_type": "code",
   "execution_count": 2,
   "id": "2c13b079",
   "metadata": {},
   "outputs": [
    {
     "data": {
      "text/plain": [
       "6"
      ]
     },
     "execution_count": 2,
     "metadata": {},
     "output_type": "execute_result"
    }
   ],
   "source": [
    "def factorial(n):\n",
    "    if n==0:\n",
    "        return 1\n",
    "    else:\n",
    "        return n*factorial(n-1)\n",
    "n=int(input())\n",
    "factorial(n)"
   ]
  },
  {
   "cell_type": "code",
   "execution_count": 6,
   "id": "4aa68ff0",
   "metadata": {},
   "outputs": [
    {
     "data": {
      "text/plain": [
       "6"
      ]
     },
     "execution_count": 6,
     "metadata": {},
     "output_type": "execute_result"
    }
   ],
   "source": [
    "def listsum(l):\n",
    "    s=0\n",
    "    for i in l:\n",
    "        s+=i\n",
    "    return s\n",
    "l=[]\n",
    "n=int(input(\"enter range\"))\n",
    "for i in range(n):\n",
    "    l.append(int(input()))\n",
    "listsum(l)"
   ]
  },
  {
   "cell_type": "code",
   "execution_count": 7,
   "id": "65b5db9e",
   "metadata": {},
   "outputs": [
    {
     "data": {
      "text/plain": [
       "2"
      ]
     },
     "execution_count": 7,
     "metadata": {},
     "output_type": "execute_result"
    }
   ],
   "source": [
    "def count_vowels(s):\n",
    "    v=\"A\",\"E\",\"I\",\"O\",\"U\",\"a\",\"e\",\"i\",\"o\",\"u\"\n",
    "    c=0\n",
    "    for i in s:\n",
    "        if i in v:\n",
    "            c+=1\n",
    "    return c\n",
    "s=str(input(\"Enter String\"))\n",
    "count_vowels(s)"
   ]
  },
  {
   "cell_type": "code",
   "execution_count": 34,
   "id": "256838b9",
   "metadata": {},
   "outputs": [
    {
     "data": {
      "text/plain": [
       "3"
      ]
     },
     "execution_count": 34,
     "metadata": {},
     "output_type": "execute_result"
    }
   ],
   "source": [
    "def maxelement(l):\n",
    "    n=len(l)\n",
    "    max=-9999\n",
    "    for i in range(n):\n",
    "        if max<l[i]:\n",
    "            max=l[i]\n",
    "    return max\n",
    "n=int(input(\"enter list range:\"))\n",
    "l=[]\n",
    "for i in range(n):\n",
    "    l.append(int(input()))\n",
    "maxelement(l)\n"
   ]
  },
  {
   "cell_type": "code",
   "execution_count": 11,
   "id": "7ea4190f",
   "metadata": {},
   "outputs": [
    {
     "data": {
      "text/plain": [
       "2"
      ]
     },
     "execution_count": 11,
     "metadata": {},
     "output_type": "execute_result"
    }
   ],
   "source": [
    "def no_words(s):\n",
    "    c=1\n",
    "    for i in s:\n",
    "        if \" \" ==i:\n",
    "            c+=1\n",
    "    return c\n",
    "\n",
    "s=str(input())\n",
    "no_words(s)"
   ]
  },
  {
   "cell_type": "code",
   "execution_count": 12,
   "id": "429a57ae",
   "metadata": {},
   "outputs": [
    {
     "name": "stdout",
     "output_type": "stream",
     "text": [
      "eligible to vote\n"
     ]
    }
   ],
   "source": [
    "def vote(n):\n",
    "    if n>=18:\n",
    "        print(\"eligible to vote\")\n",
    "    else:\n",
    "        print(\"not eligible\")\n",
    "n=int(input(\"Enter age:\"))\n",
    "vote(n)"
   ]
  },
  {
   "cell_type": "code",
   "execution_count": 31,
   "id": "fa513e28",
   "metadata": {},
   "outputs": [
    {
     "name": "stdout",
     "output_type": "stream",
     "text": [
      "leap year\n"
     ]
    }
   ],
   "source": [
    "def leap(y):\n",
    "    if y%100!=0 and y%4==0 or y%400==0:\n",
    "        print(\"leap year\")\n",
    "    else:\n",
    "        print(\"not leap year\")\n",
    "y=int(input(\"enter year\"))\n",
    "leap(y)"
   ]
  },
  {
   "cell_type": "code",
   "execution_count": 15,
   "id": "972c1e01",
   "metadata": {},
   "outputs": [
    {
     "name": "stdout",
     "output_type": "stream",
     "text": [
      "Consonant\n"
     ]
    }
   ],
   "source": [
    "def letter(s):\n",
    "    v=\"A\",\"E\",\"I\",\"O\",\"U\",\"a\",\"e\",\"i\",\"o\",\"u\"\n",
    "    if s in v:\n",
    "        print(\"Vowel\")\n",
    "    else:\n",
    "        print(\"Consonant\")\n",
    "s=str(input())\n",
    "letter(s)"
   ]
  },
  {
   "cell_type": "code",
   "execution_count": 25,
   "id": "2feba118",
   "metadata": {},
   "outputs": [
    {
     "name": "stdout",
     "output_type": "stream",
     "text": [
      "Fail\n"
     ]
    }
   ],
   "source": [
    "def clasify(m):\n",
    "    if 100>=m >=90:\n",
    "        print(\"Grade is: A\")\n",
    "    elif 75<=m<=89:\n",
    "        print(\"Grade is : B\")\n",
    "    elif 50 <=m<=74:\n",
    "        print(\"Grade is: C\")\n",
    "    else:\n",
    "        print(\"Fail\")\n",
    "m=int(input())\n",
    "clasify(m)\n"
   ]
  },
  {
   "cell_type": "code",
   "execution_count": null,
   "id": "a989d4ef",
   "metadata": {},
   "outputs": [],
   "source": []
  }
 ],
 "metadata": {
  "kernelspec": {
   "display_name": ".venv",
   "language": "python",
   "name": "python3"
  },
  "language_info": {
   "codemirror_mode": {
    "name": "ipython",
    "version": 3
   },
   "file_extension": ".py",
   "mimetype": "text/x-python",
   "name": "python",
   "nbconvert_exporter": "python",
   "pygments_lexer": "ipython3",
   "version": "3.10.11"
  }
 },
 "nbformat": 4,
 "nbformat_minor": 5
}

{
 "cells": [
  {
   "cell_type": "code",
   "execution_count": 2,
   "id": "b492d5bf",
   "metadata": {},
   "outputs": [
    {
     "name": "stdout",
     "output_type": "stream",
     "text": [
      "Hi Jeshwanth,have a great day\n",
      "Hi Jeshwanth,have a great day\n",
      "Hi Jeshwanth,have a great day\n",
      "Hi Jeshwanth,have a great day\n"
     ]
    }
   ],
   "source": [
    "def repeat(n):\n",
    "    def decorator(func):\n",
    "        def wrapper(*args,**kwargs):\n",
    "            for _ in range(n):\n",
    "                func(*args,**kwargs)\n",
    "        return wrapper\n",
    "    return decorator\n",
    "@repeat(n=4)\n",
    "def greet(name):\n",
    "    print(f\"Hi {name},have a great day\")\n",
    "greet(\"Jeshwanth\")"
   ]
  },
  {
   "cell_type": "code",
   "execution_count": 6,
   "id": "2f392937",
   "metadata": {},
   "outputs": [
    {
     "name": "stdout",
     "output_type": "stream",
     "text": [
      "Start fetch_data\n",
      "Data fetched\n",
      "Finished fetch_data in 2.01\n"
     ]
    }
   ],
   "source": [
    "## asyncio and decorator\n",
    "import asyncio\n",
    "import time\n",
    "\n",
    "def async_loger(func):\n",
    "    async def wrapper(*args,**kwargs):\n",
    "        print(f\"Start {func.__name__}\")\n",
    "        start=time.time()\n",
    "        result=await func(*args,**kwargs)\n",
    "        end=time.time()\n",
    "        print(f\"Finished {func.__name__} in {end-start:.2f}\")# till 2 decimal \n",
    "        return result\n",
    "    return wrapper\n",
    "@async_loger\n",
    "async def fetch_data():\n",
    "    await asyncio.sleep(2)\n",
    "    print(\"Data fetched\")\n",
    "await fetch_data()"
   ]
  },
  {
   "cell_type": "code",
   "execution_count": 13,
   "id": "a8b64887",
   "metadata": {},
   "outputs": [
    {
     "name": "stdout",
     "output_type": "stream",
     "text": [
      "['29327', '29370']\n",
      "['123', '456']\n"
     ]
    }
   ],
   "source": [
    "import re\n",
    "s=\"29327eijsjso29370\"\n",
    "p=\"abc123xyz456\"  #return all numbers for string\n",
    "f=re.findall(r\"\\d+\",s)\n",
    "a=re.findall(r\"\\d+\",p)\n",
    "print(f)\n",
    "print(a)"
   ]
  },
  {
   "cell_type": "code",
   "execution_count": 19,
   "id": "eb1b4f03",
   "metadata": {},
   "outputs": [
    {
     "name": "stdout",
     "output_type": "stream",
     "text": [
      "True\n"
     ]
    }
   ],
   "source": [
    "#validate email\n",
    "import re\n",
    "s=\"jeshwanth@gmail.jd92380j\"\n",
    "pattern=r\"^[\\w\\.-]+@[\\w\\.-]+\\.\\w+$\"\n",
    "m=re.match(pattern,s)\n",
    "if m:\n",
    "    print( True)\n",
    "else:\n",
    "    print(False)"
   ]
  },
  {
   "cell_type": "code",
   "execution_count": 21,
   "id": "551fb590",
   "metadata": {},
   "outputs": [
    {
     "name": "stdout",
     "output_type": "stream",
     "text": [
      "5bjsbkx5\n"
     ]
    }
   ],
   "source": [
    "# remove speciall characters\n",
    "\n",
    "s=\"@#5bjsbkx5%%&*^*\" \n",
    "p=re.sub(r\"[^\\w\\s]\", \"\", s)\n",
    "print(p)\n"
   ]
  },
  {
   "cell_type": "code",
   "execution_count": null,
   "id": "07f92cfb",
   "metadata": {},
   "outputs": [
    {
     "name": "stdout",
     "output_type": "stream",
     "text": [
      "True\n"
     ]
    }
   ],
   "source": [
    "p=\"6303142612\"\n",
    "c=re.match(r\"^\\d{10}$\",p) \n",
    "if c:\n",
    "    print(True)\n",
    "else:\n",
    "    print(False)"
   ]
  },
  {
   "cell_type": "code",
   "execution_count": 36,
   "id": "b96934fc",
   "metadata": {},
   "outputs": [
    {
     "name": "stdout",
     "output_type": "stream",
     "text": [
      "Hi Jeshwanth\n",
      "Meet you soon jehs\n"
     ]
    }
   ],
   "source": [
    "# first class and higher order functions\n",
    "def greet(name):\n",
    "    return (f'Hi {name}')\n",
    "\n",
    "def bye(name):\n",
    "    return f\"Meet you soon {name}\"\n",
    "def call(func,v):\n",
    "    return func(v)\n",
    "\n",
    "print(call(greet,(\"Jeshwanth\")))\n",
    "print(call(bye,\"jehs\"))"
   ]
  },
  {
   "cell_type": "code",
   "execution_count": 48,
   "id": "bd8795f0",
   "metadata": {},
   "outputs": [
    {
     "name": "stdout",
     "output_type": "stream",
     "text": [
      "[1, 9, 25, 49, 81, 16, 64, 144, 324]\n",
      "713\n",
      "even squres are:  [16, 64, 144, 324]\n"
     ]
    }
   ],
   "source": [
    "#reduce functools\n",
    "from functools import reduce\n",
    "a=[1,3,5,7,9,4,8,12,18]\n",
    "c=list(map(lambda x:x*x,a)) # map used to squre no.s and store in list\n",
    "b=reduce(lambda x,y:x+y,c)# used to add all squres stored in c\n",
    "d=list(filter(lambda x:x%2==0,c))\n",
    "print(c)\n",
    "print(b)\n",
    "print(\"even squres are: \",d)\n"
   ]
  },
  {
   "cell_type": "code",
   "execution_count": null,
   "id": "efb6171c",
   "metadata": {},
   "outputs": [
    {
     "name": "stdout",
     "output_type": "stream",
     "text": [
      "9993.0\n",
      "-9989.0\n"
     ]
    }
   ],
   "source": [
    "from functools import reduce\n",
    "def calculator(op,val):\n",
    "    n=list(filter(lambda x: isinstance(x,(int,float)),val)) #isinstance to check type/class of values\n",
    "    clean=list(map(lambda x:float(x),n))\n",
    "    operations={\n",
    "        'add':lambda x,y:x+y,\n",
    "        'sub':lambda x,y:x-y,\n",
    "        'mul':lambda x,y:x*y,\n",
    "        'div':lambda x,y:x/y if y!=0 else float('inf')\n",
    "\n",
    "\n",
    "    }\n",
    "    return reduce(operations[op],clean) if op in operations else \"invalid operation\"\n",
    "l=[2,88,45,7,863,47,8,67,8767,98,True,\"asd\"]\n",
    "print(calculator('add',l))\n",
    "print(calculator('sub',l))"
   ]
  },
  {
   "cell_type": "code",
   "execution_count": 76,
   "id": "3094a9e7",
   "metadata": {},
   "outputs": [
    {
     "name": "stdout",
     "output_type": "stream",
     "text": [
      "M1 matrix\n",
      "1\t2\t3\n",
      "5\t6\t8\n",
      "m2 matrix\n",
      "3\t4\t6\n",
      "7\t5\t7\n",
      "add\n",
      "4\t6\t9\n",
      "12\t11\t15\n"
     ]
    }
   ],
   "source": [
    "#Matrix class to do __add__ using self,other class\n",
    "class Matrix:\n",
    "    def __init__(self,data):\n",
    "        self.data=data\n",
    "        self.rows=len(data)\n",
    "        self.col=len(data[0])\n",
    "    def __str__(self):\n",
    "        return '\\n'.join(['\\t'.join(map(str,i)) for i in self.data])\n",
    "    def __add__(self,other):\n",
    "        if self.rows!=other.rows or self.col!=other.col:\n",
    "            raise ValueError(\"Matrix must be same dimension to add\")\n",
    "        result=[[self.data[i][j]+other.data[i][j] for j in range(self.col) ] \n",
    "                for i in range(self.rows) ]\n",
    "        return Matrix(result)\n",
    "m1=Matrix([[1,2,3],[5,6,8]])\n",
    "print(\"M1 matrix\")\n",
    "print(m1)\n",
    "m2=Matrix([[3,4,6],[7,5,7]])\n",
    "print(\"m2 matrix\")\n",
    "print(m2)\n",
    "print(\"add\")\n",
    "print(m1+m2)"
   ]
  },
  {
   "cell_type": "code",
   "execution_count": 77,
   "id": "89deb368",
   "metadata": {},
   "outputs": [
    {
     "name": "stdout",
     "output_type": "stream",
     "text": [
      "User(name='Jeshwanth', age=23)\n"
     ]
    }
   ],
   "source": [
    "from dataclasses import dataclass\n",
    "@dataclass\n",
    "class User:\n",
    "    name:str\n",
    "    age:int\n",
    "\n",
    "u=User(\"Jeshwanth\",23)\n",
    "print(u)\n"
   ]
  },
  {
   "cell_type": "code",
   "execution_count": null,
   "id": "38655bf5",
   "metadata": {},
   "outputs": [
    {
     "name": "stdout",
     "output_type": "stream",
     "text": [
      "Animal Tom\n",
      "Dog: Tom\n"
     ]
    }
   ],
   "source": [
    "class Animal:\n",
    "    def __init__(self,name):\n",
    "        print(f\"Animal {name}\")\n",
    "class Dog(Animal):\n",
    "    def __init__ (self,name):\n",
    "        super().__init__(name)  #calling parent Animal class calling using super class\n",
    "        print(f\"Dog: {name}\")\n",
    "\n",
    "d=Dog(\"Tom\")"
   ]
  },
  {
   "cell_type": "code",
   "execution_count": 81,
   "id": "b88210ae",
   "metadata": {},
   "outputs": [
    {
     "name": "stdout",
     "output_type": "stream",
     "text": [
      "This is person\n",
      "This is student\n"
     ]
    }
   ],
   "source": [
    "#over riding using super()\n",
    "class Person:\n",
    "    def greet(self):\n",
    "        print(\"This is person\")\n",
    "class Student(Person):\n",
    "    def greet(self):\n",
    "        super().greet()\n",
    "        print(\"This is student\")\n",
    "s=Student()  ## calling method -->s is object\n",
    "s.greet()"
   ]
  },
  {
   "cell_type": "code",
   "execution_count": 85,
   "id": "aeb29e62",
   "metadata": {},
   "outputs": [
    {
     "name": "stdout",
     "output_type": "stream",
     "text": [
      "This is Circle\n",
      "78.5\n",
      "78.57142857142857\n"
     ]
    }
   ],
   "source": [
    "class Circle:\n",
    "    pi=3.14\n",
    "    def __init__(self,radius):\n",
    "        self.radius=radius #instace attribue\n",
    "    def area(self):                                  ##instance method\n",
    "        return Circle.pi*self.radius*self.radius\n",
    "    @staticmethod\n",
    "    def info():\n",
    "        return \"This is Circle\"\n",
    "    @classmethod\n",
    "    def change_pi(cls,new_pi):\n",
    "        cls.pi=new_pi\n",
    "##static method\n",
    "print(Circle.info())\n",
    "##instanc\n",
    "a=Circle(5)\n",
    "print(a.area())\n",
    "    #static\n",
    "Circle.change_pi(22/7)\n",
    "print(a.area())\n",
    "\n"
   ]
  },
  {
   "cell_type": "code",
   "execution_count": null,
   "id": "dab96450",
   "metadata": {},
   "outputs": [],
   "source": []
  }
 ],
 "metadata": {
  "kernelspec": {
   "display_name": ".venv",
   "language": "python",
   "name": "python3"
  },
  "language_info": {
   "codemirror_mode": {
    "name": "ipython",
    "version": 3
   },
   "file_extension": ".py",
   "mimetype": "text/x-python",
   "name": "python",
   "nbconvert_exporter": "python",
   "pygments_lexer": "ipython3",
   "version": "3.10.11"
  }
 },
 "nbformat": 4,
 "nbformat_minor": 5
}

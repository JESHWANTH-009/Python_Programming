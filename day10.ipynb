{
 "cells": [
  {
   "cell_type": "code",
   "execution_count": 1,
   "id": "eb57e667",
   "metadata": {},
   "outputs": [
    {
     "data": {
      "text/plain": [
       "'AARRRRTTTTTTO'"
      ]
     },
     "execution_count": 1,
     "metadata": {},
     "output_type": "execute_result"
    }
   ],
   "source": [
    "def decode(string):\n",
    "    c=\"\"\n",
    "    a=\"\"\n",
    "    for i in string:\n",
    "        if i.isdigit():\n",
    "            c+=i\n",
    "        else:\n",
    "            if c==\"\":\n",
    "                a+=i\n",
    "            else:\n",
    "                a+=int(c)*i\n",
    "                c=\"\"\n",
    "    return a\n",
    "decode(\"2A4R6TO\")"
   ]
  },
  {
   "cell_type": "code",
   "execution_count": null,
   "id": "8d34c2ba",
   "metadata": {},
   "outputs": [
    {
     "data": {
      "text/plain": [
       "'2A4R6TO'"
      ]
     },
     "execution_count": 2,
     "metadata": {},
     "output_type": "execute_result"
    }
   ],
   "source": [
    "def encode(string):\n",
    "    if not string:\n",
    "        return \"\"\n",
    "    c=\"\"\n",
    "    n=1\n",
    "    for i in range(1,len(string)):\n",
    "        if string[i]==string[i-1]:\n",
    "            n+=1\n",
    "        else:\n",
    "            if n==1:\n",
    "                c+=string[i-1]\n",
    "                \n",
    "            else:\n",
    "                c+=str(n)+string[i-1]\n",
    "            n=1\n",
    "    if n==1:\n",
    "        c+=string[-1]\n",
    "    else:\n",
    "        c+=str(n)+string[-1]\n",
    "    return c\n",
    "encode('AARRRRTTTTTTO')"
   ]
  },
  {
   "cell_type": "code",
   "execution_count": 5,
   "id": "08a22971",
   "metadata": {},
   "outputs": [
    {
     "name": "stdout",
     "output_type": "stream",
     "text": [
      "{'H': 1, 'e': 1, 'l': 3, 'o': 2, 'W': 1, 'r': 1, 'd': 1}\n"
     ]
    }
   ],
   "source": [
    "a=\"Hello World\"\n",
    "b={}\n",
    "for i in a:\n",
    "    if i!=\" \":\n",
    "        b[i]=b.get(i,0)+1\n",
    "print(b)"
   ]
  },
  {
   "cell_type": "code",
   "execution_count": 17,
   "id": "02dfa19e",
   "metadata": {},
   "outputs": [
    {
     "name": "stdout",
     "output_type": "stream",
     "text": [
      "[9, 16, 4356, 6084, 64, 81]\n",
      "[4, 66, 78, 8]\n",
      "[16, 4356, 6084, 64]\n",
      "[False, True, True, True, True, False]\n"
     ]
    }
   ],
   "source": [
    "#lambda function\n",
    "a=[3,4,66,78,8,9]\n",
    "even=list(filter(lambda x:x%2==0,a))\n",
    "square=list(map(lambda x:x*x,a))\n",
    "square_even=list(map(lambda x:x*x,filter(lambda x:x%2==0,a)))\n",
    "even_true=list(map(lambda x:x%2==0,a))\n",
    "print(square)\n",
    "print(even)\n",
    "print(square_even)\n",
    "print(even_true)\n"
   ]
  },
  {
   "cell_type": "code",
   "execution_count": 28,
   "id": "ff74ae3e",
   "metadata": {},
   "outputs": [
    {
     "name": "stdout",
     "output_type": "stream",
     "text": [
      "[(1, 'one'), (2, 'two'), (5, 'five'), (9, 'nine')]\n",
      "[1, 4, 9, 16]\n"
     ]
    }
   ],
   "source": [
    "#tupples sorted\n",
    "a=[(1,\"one\"),(5,\"five\"),(9,\"nine\"),(2,\"two\")]\n",
    "b=sorted(a,key=lambda x:x[0])\n",
    "print(b)\n",
    "c=[1,2,3,4]\n",
    "d=list((lambda x:x*x)(i) for i in c)# list comprehension\n",
    "print(d)"
   ]
  },
  {
   "cell_type": "code",
   "execution_count": 32,
   "id": "383ba0b0",
   "metadata": {},
   "outputs": [
    {
     "data": {
      "text/plain": [
       "['On the first day of Christmas my true love gave to me: a Partridge in a Pear Tree.',\n",
       " 'On the second day of Christmas my true love gave to me: two Turtle Doves, and a Partridge in a Pear Tree.',\n",
       " 'On the third day of Christmas my true love gave to me: three French Hens, two Turtle Doves, and a Partridge in a Pear Tree.',\n",
       " 'On the fourth day of Christmas my true love gave to me: four Calling Birds, three French Hens, two Turtle Doves, and a Partridge in a Pear Tree.']"
      ]
     },
     "execution_count": 32,
     "metadata": {},
     "output_type": "execute_result"
    }
   ],
   "source": [
    "def recite(start_verse, end_verse):\n",
    "    a=[\"first\",\"second\",\"third\",\"fourth\",\"fifth\",\"sixth\",\"seventh\",\"eighth\",\"ninth\",\"tenth\",\"eleventh\",\"twelfth\"]\n",
    "    b=[\n",
    "     \"a Partridge in a Pear Tree.\",\n",
    "        \"two Turtle Doves\",\n",
    "        \"three French Hens\",\n",
    "        \"four Calling Birds\",\n",
    "        \"five Gold Rings\",\n",
    "        \"six Geese-a-Laying\",\n",
    "        \"seven Swans-a-Swimming\",\n",
    "        \"eight Maids-a-Milking\",\n",
    "        \"nine Ladies Dancing\",\n",
    "        \"ten Lords-a-Leaping\",\n",
    "        \"eleven Pipers Piping\",\n",
    "        \"twelve Drummers Drumming\"\n",
    "    ]\n",
    "    c=[]\n",
    "    for i in range(start_verse,end_verse+1):\n",
    "        verse = f\"On the {a[i-1]} day of Christmas my true love gave to me: \"\n",
    "        gifts = []\n",
    "        for j in range(i- 1,-1,-1):\n",
    "            if j==0 and i!=1:\n",
    "                gifts.append(\"and \"+ b[j])\n",
    "            else:\n",
    "                gifts.append(b[j])\n",
    "        verse+= \", \".join(gifts)\n",
    "        c.append(verse)\n",
    "    return c\n",
    "recite(1,4)"
   ]
  },
  {
   "cell_type": "code",
   "execution_count": 45,
   "id": "25570fc4",
   "metadata": {},
   "outputs": [
    {
     "name": "stdout",
     "output_type": "stream",
     "text": [
      "bmwcar and color isRed started\n",
      "bmwRed\n",
      "bmwcar and color isRed started\n",
      "bmwRed\n"
     ]
    }
   ],
   "source": [
    "class Car:\n",
    "    def __init__(self,brand,color):\n",
    "        self.brand=brand\n",
    "        self.color=color\n",
    "        self.add=brand+color\n",
    "    def defi(self):\n",
    "        print(f\"{self.brand}car and color is{self.color} started\")\n",
    "        print(f\"{self.add}\")\n",
    "    \n",
    "c=Car(\"bmw\",\"Red\")\n",
    "\n",
    "c.defi()\n",
    "c.defi()"
   ]
  },
  {
   "cell_type": "code",
   "execution_count": null,
   "id": "1f1748c1",
   "metadata": {},
   "outputs": [
    {
     "data": {
      "text/plain": [
       "5551"
      ]
     },
     "execution_count": 47,
     "metadata": {},
     "output_type": "execute_result"
    }
   ],
   "source": [
    "class BankAccount:\n",
    "    def __init__(self):\n",
    "        self.__balance=0\n",
    "    def add(self,amount):\n",
    "        self.__balance+=amount  ##__ is private vairable\n",
    "        # Encapsulation hiding details wraping methods and vairables into single class \n",
    "    \n",
    "    def savings(self):\n",
    "        return self.__balance\n",
    "c=BankAccount()\n",
    "c.add(5000)\n",
    "c.add(500)\n",
    "c.add(51)\n",
    "c.savings()"
   ]
  },
  {
   "cell_type": "code",
   "execution_count": null,
   "id": "a82b174c",
   "metadata": {},
   "outputs": [
    {
     "name": "stdout",
     "output_type": "stream",
     "text": [
      "Animal speak\n",
      "Dog barks\n"
     ]
    }
   ],
   "source": [
    "class Animal:\n",
    "    def speak(self):\n",
    "        print(\"Animal speak\")\n",
    "class Dog(Animal):#inherit\n",
    "    def bark(self):\n",
    "        print(\"Dog barks\")\n",
    "c=Dog()\n",
    "c.speak()\n",
    "c.bark()#c is object\n"
   ]
  },
  {
   "cell_type": "code",
   "execution_count": null,
   "id": "5bf9e9c2",
   "metadata": {},
   "outputs": [
    {
     "name": "stdout",
     "output_type": "stream",
     "text": [
      "crip\n",
      "meow\n"
     ]
    }
   ],
   "source": [
    "# same method name different behavior depend on class/obj  ---polymorphism\n",
    "class Bird:\n",
    "    def sound(self):\n",
    "        print(\"crip\")\n",
    "class Cat:\n",
    "    def sound(self):\n",
    "        print(\"meow\")\n",
    "def make(Animal):\n",
    "    Animal.sound()\n",
    "make(Bird())\n",
    "make(Cat())"
   ]
  },
  {
   "cell_type": "code",
   "execution_count": null,
   "id": "3b22c21f",
   "metadata": {},
   "outputs": [
    {
     "name": "stdout",
     "output_type": "stream",
     "text": [
      "Circle\n",
      "50.24\n"
     ]
    }
   ],
   "source": [
    "#Abstractionn hiding complex implementaion and showing neccessary\n",
    "from abc import ABC,abstractmethod  #abc-- abstract base class\n",
    "class Shape(ABC):\n",
    "    @abstractmethod  \n",
    "    def shape(self):  ## Abstract method\n",
    "        pass\n",
    "class Circle(Shape):\n",
    "    def __init__(self,radius):\n",
    "        self.radius=radius\n",
    "        super().__init__()  ## called to call methods in child class from  parernt calss  to overridding that method\n",
    "    def shape(self):\n",
    "        return (\"Circle\")\n",
    "    def area(self):\n",
    "        return 3.14*self.radius**2\n",
    "c=Circle(4)\n",
    "print(c.shape())\n",
    "print(c.area())\n"
   ]
  },
  {
   "cell_type": "code",
   "execution_count": 59,
   "id": "87b32c92",
   "metadata": {},
   "outputs": [
    {
     "data": {
      "text/plain": [
       "[4, 5, 2, 2]"
      ]
     },
     "execution_count": 59,
     "metadata": {},
     "output_type": "execute_result"
    }
   ],
   "source": [
    "import random\n",
    "rolls = [random.randint(1, 6) for _ in range(4)]\n",
    "rolls"
   ]
  },
  {
   "cell_type": "code",
   "execution_count": null,
   "id": "72ffcebe",
   "metadata": {},
   "outputs": [
    {
     "name": "stdout",
     "output_type": "stream",
     "text": [
      "Your D&D character abilities:\n",
      "Strength: 15\n"
     ]
    }
   ],
   "source": [
    "import random\n",
    "\n",
    "def modifier(score):\n",
    "    return (score - 10) // 2\n",
    "\n",
    "class Character:\n",
    "    def __init__(self):\n",
    "        self.strength = self.ability()\n",
    "        self.dexterity = self.ability()\n",
    "        self.constitution = self.ability()\n",
    "        self.intelligence = self.ability()\n",
    "        self.wisdom = self.ability()\n",
    "        self.charisma = self.ability()\n",
    "        self.hitpoints = 10 + modifier(self.constitution)\n",
    "\n",
    "    def ability(self):\n",
    "        rolls = [random.randint(1, 6) for i in range(4)]\n",
    "        rolls.sort()\n",
    "        return sum(rolls[1:])  \n"
   ]
  },
  {
   "cell_type": "code",
   "execution_count": 78,
   "id": "6f6faaab",
   "metadata": {},
   "outputs": [
    {
     "name": "stdout",
     "output_type": "stream",
     "text": [
      "bmw red is driving.\n"
     ]
    }
   ],
   "source": [
    "class Car:\n",
    "    def __init__(self, brand, color):\n",
    "        self.brand= brand\n",
    "        self.color=color\n",
    "    def drive(self):\n",
    "        print(f\"{self.brand} {self.color} is driving.\")\n",
    "my_car = Car(\"bmw\",'red')\n",
    "my_car.drive()"
   ]
  },
  {
   "cell_type": "code",
   "execution_count": 81,
   "id": "5b3c6c14",
   "metadata": {},
   "outputs": [
    {
     "name": "stdout",
     "output_type": "stream",
     "text": [
      "1500\n"
     ]
    }
   ],
   "source": [
    "class BankAccount:\n",
    "    def __init__(self):\n",
    "        self.__balance=0  # Private variable\n",
    "    def deposit(self,amount):\n",
    "        self.__balance+=amount\n",
    "#Encapsulation wraping vairables and method in to a class\n",
    "    def get_balance(self):\n",
    "        return self.__balance\n",
    "acc=BankAccount()\n",
    "acc.deposit(1000)\n",
    "acc.deposit(500)\n",
    "print(acc.get_balance()) "
   ]
  },
  {
   "cell_type": "code",
   "execution_count": 82,
   "id": "ace7e76c",
   "metadata": {},
   "outputs": [
    {
     "name": "stdout",
     "output_type": "stream",
     "text": [
      "Animal speaks\n",
      "Dog barks\n"
     ]
    }
   ],
   "source": [
    "class Animal:\n",
    "    def speak(self):\n",
    "        print(\"Animal speaks\")\n",
    "\n",
    "class Dog(Animal):# another calss to inhert\n",
    "    def bark(self):\n",
    "        print(\"Dog barks\")\n",
    "\n",
    "d = Dog() \n",
    "d.speak()  # From Animal\n",
    "d.bark()   # From Dog"
   ]
  },
  {
   "cell_type": "code",
   "execution_count": 83,
   "id": "a19acbcb",
   "metadata": {},
   "outputs": [
    {
     "name": "stdout",
     "output_type": "stream",
     "text": [
      "Chirp\n",
      "Meow\n"
     ]
    }
   ],
   "source": [
    "class Bird:\n",
    "    def sound(self):\n",
    "        print(\"Chirp\")\n",
    "class Cat:\n",
    "    def sound(self):\n",
    "        print(\"Meow\")# polymophishm using same method name \n",
    "\n",
    "def make_sound(animal):\n",
    "    animal.sound()\n",
    "make_sound(Bird())  # Chirp\n",
    "make_sound(Cat())   # Meow\n"
   ]
  },
  {
   "cell_type": "code",
   "execution_count": null,
   "id": "07c3033f",
   "metadata": {},
   "outputs": [
    {
     "name": "stdout",
     "output_type": "stream",
     "text": [
      "Circle\n",
      "50.24\n"
     ]
    }
   ],
   "source": [
    "from abc import ABC, abstractmethod  # abc — abstract base class\n",
    "\n",
    "class Shape(ABC):\n",
    "    @abstractmethod \n",
    "    def shape(self):  # Abstract method\n",
    "        pass\n",
    "\n",
    "\n",
    "class Circle(Shape):\n",
    "    def __init__(self, radius):\n",
    "        self.radius = radius\n",
    "        super().__init__()  ## call methods from parent class\n",
    "\n",
    "    def shape(self):\n",
    "        return \"Circle\"  # Implementing abstract method\n",
    "\n",
    "    def area(self):\n",
    "        return 3.14*self.radius** 2\n",
    "\n",
    "c = Circle(4)\n",
    "print(c.shape())   \n",
    "print(c.area())"
   ]
  },
  {
   "cell_type": "code",
   "execution_count": 94,
   "id": "2a329a97",
   "metadata": {},
   "outputs": [
    {
     "data": {
      "text/plain": [
       "10"
      ]
     },
     "execution_count": 94,
     "metadata": {},
     "output_type": "execute_result"
    }
   ],
   "source": [
    "import random\n",
    "def modifier(score):\n",
    "    return (score - 10)//2\n",
    "\n",
    "class Character:\n",
    "    def __init__(self):\n",
    "        self.strength = self.ability()\n",
    "        self.dexterity = self.ability()\n",
    "        self.constitution = self.ability()\n",
    "        self.intelligence = self.ability()\n",
    "        self.wisdom = self.ability()\n",
    "        self.charisma = self.ability()\n",
    "        self.hitpoints = 10 + modifier(self.constitution)\n",
    "\n",
    "    def ability(self):\n",
    "        rolls = [random.randint(1,6) for i in range(4)]\n",
    "        rolls.sort()\n",
    "        return sum(rolls[1:])  \n",
    "c=Character()\n",
    "c.strength"
   ]
  },
  {
   "cell_type": "code",
   "execution_count": 95,
   "id": "f0a54818",
   "metadata": {},
   "outputs": [
    {
     "name": "stdout",
     "output_type": "stream",
     "text": [
      "78.5\n"
     ]
    }
   ],
   "source": [
    "#decorators are used to wrap another function or method without modifing code\n",
    "#@property is used as method like a attribute\n",
    "class Circle:\n",
    "    def __init__(self, radius):\n",
    "        self.radius=radius\n",
    "    @property\n",
    "    def area(self):  # behaves like an attribute\n",
    "        return 3.14*self.radius**2\n",
    "\n",
    "c = Circle(5)\n",
    "print(c.area)"
   ]
  },
  {
   "cell_type": "code",
   "execution_count": null,
   "id": "4966eda5",
   "metadata": {},
   "outputs": [],
   "source": []
  }
 ],
 "metadata": {
  "kernelspec": {
   "display_name": ".venv",
   "language": "python",
   "name": "python3"
  },
  "language_info": {
   "codemirror_mode": {
    "name": "ipython",
    "version": 3
   },
   "file_extension": ".py",
   "mimetype": "text/x-python",
   "name": "python",
   "nbconvert_exporter": "python",
   "pygments_lexer": "ipython3",
   "version": "3.10.11"
  }
 },
 "nbformat": 4,
 "nbformat_minor": 5
}

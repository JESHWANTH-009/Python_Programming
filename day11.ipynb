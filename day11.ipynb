{
 "cells": [
  {
   "cell_type": "code",
   "execution_count": null,
   "id": "ad1c94bc",
   "metadata": {},
   "outputs": [
    {
     "name": "stdout",
     "output_type": "stream",
     "text": [
      "Done waiting 4 sec\n",
      "repeat\n",
      "waiting\n",
      "next task\n"
     ]
    }
   ],
   "source": [
    "#Synchronous Program\n",
    "import time \n",
    "def sl():\n",
    "    time.sleep(4)  #1 wait 4 sec\n",
    "    print(\"Done waiting 4 sec\") # print\n",
    "    print(\"repeat\")\n",
    "    time.sleep(1) # wait 1 sec\n",
    "    print('waiting') # total 5 sec waiting taken time\n",
    "sl()\n",
    "print(\"next task\")"
   ]
  },
  {
   "cell_type": "code",
   "execution_count": 7,
   "id": "a8488817",
   "metadata": {},
   "outputs": [
    {
     "name": "stdout",
     "output_type": "stream",
     "text": [
      "waited\n",
      "wait 2 sec only\n",
      "next one\n",
      "waited\n",
      "wait 2 sec only\n"
     ]
    }
   ],
   "source": [
    "#Asynchonous programming\n",
    "import asyncio\n",
    "async def asc():\n",
    "    await asyncio.sleep(3)\n",
    "    print(\"waited\")\n",
    "    await asyncio.sleep(2)\n",
    "    print(\"wait 2 sec only\")\n",
    "async def main():\n",
    "    await asc()\n",
    "    print(\"next one\")\n",
    "await main()\n",
    "await asc()\n"
   ]
  },
  {
   "cell_type": "code",
   "execution_count": null,
   "id": "37130ed3",
   "metadata": {},
   "outputs": [
    {
     "name": "stdout",
     "output_type": "stream",
     "text": [
      "1\n",
      "2\n",
      "4\n",
      "3\n",
      "5\n"
     ]
    }
   ],
   "source": [
    "#create_task Asynchronous\n",
    "# we can call when ever we want and task will be running in background\n",
    "import asyncio\n",
    "async def fn():\n",
    "    task=asyncio.create_task(fn2())\n",
    "    print(\"1\")\n",
    "    print(\"2\")\n",
    "    await asyncio.sleep(1)\n",
    "    print(\"3\")\n",
    "async def fn2():\n",
    "    print(\"4\")\n",
    "    await asyncio.sleep(1)\n",
    "    print(\"5\")\n",
    "await fn()\n"
   ]
  },
  {
   "cell_type": "code",
   "execution_count": 17,
   "id": "b67ad100",
   "metadata": {},
   "outputs": [
    {
     "name": "stdout",
     "output_type": "stream",
     "text": [
      "['waited till2', 'waited till3', 'waited till1']\n"
     ]
    }
   ],
   "source": [
    "#gather()--bunches multiple calls and return all outputs at once\n",
    "import asyncio\n",
    "async def task(n):\n",
    "    await asyncio.sleep(n)\n",
    "    return f\"waited till{n}\"\n",
    "async def main():\n",
    "    r=await asyncio.gather(task(2),task(3),task(1))\n",
    "    print(r)\n",
    "await main()\n"
   ]
  },
  {
   "cell_type": "code",
   "execution_count": null,
   "id": "05d43202",
   "metadata": {},
   "outputs": [
    {
     "name": "stdout",
     "output_type": "stream",
     "text": [
      "tsak2done\n",
      "Done tasks: ['tsak2']\n",
      "Pending task: ['task']\n"
     ]
    },
    {
     "name": "stdout",
     "output_type": "stream",
     "text": [
      "task1done\n"
     ]
    }
   ],
   "source": [
    "#await() its is used to get control on tsks return 2 sets done, pending\n",
    "import asyncio\n",
    "async def task(name,n):\n",
    "    await asyncio.sleep(n)\n",
    "    print(f\"{name}done\")\n",
    "    return name\n",
    "async def main():\n",
    "    t1=asyncio.create_task(task(\"task1\",2))\n",
    "    t2=asyncio.create_task(task(\"tsak2\",1))\n",
    "    done,pending=await asyncio.wait([t1,t2] ,return_when=asyncio.FIRST_COMPLETED)\n",
    "    print(f\"Done tasks: {[d.result() for d in done]}\") # we get return val of task return ()--method of asyncio coroutine\n",
    "    print(f\"Pending task: {[p._coro.__name__ for p in pending]}\") #_coro.__name__ gives names of function of coroutiine\n",
    "await main()"
   ]
  },
  {
   "cell_type": "code",
   "execution_count": null,
   "id": "d9fdd518",
   "metadata": {},
   "outputs": [
    {
     "name": "stdout",
     "output_type": "stream",
     "text": [
      "Number : 0\n",
      "Number : 1\n",
      "Number : 2\n",
      "Number : 3\n",
      "Number : 4\n",
      "Letters : A\n",
      "Letters : B\n",
      "Letters : C\n",
      "Letters : D\n",
      "Letters : E\n"
     ]
    }
   ],
   "source": [
    "#threading is light weight process \n",
    "import threading\n",
    "import time\n",
    "a=threading.Lock()# Lock (Mutex)it is used to make access to use a single thread at time not to get jumble withother thread\n",
    "def num():\n",
    "    with a:# a.acquire try ;\n",
    "        for i in range(5):\n",
    "            print(f\"Number : {i}\")\n",
    "            time.sleep(1)#finally: a.release()\n",
    "def let():\n",
    "    with a:\n",
    "        for i in \"ABCDE\":\n",
    "            print(f'Letters : {i}')\n",
    "            time.sleep(1)\n",
    "t1=threading.Thread(target=num)\n",
    "t2=threading.Thread(target=let)\n",
    "t1.start()\n",
    "t2.start()\n",
    "\n",
    "t1.join()\n",
    "t2.join()"
   ]
  },
  {
   "cell_type": "code",
   "execution_count": 35,
   "id": "22b2b423",
   "metadata": {},
   "outputs": [
    {
     "data": {
      "text/plain": [
       "[{'row': 1, 'column': 2}]"
      ]
     },
     "execution_count": 35,
     "metadata": {},
     "output_type": "execute_result"
    }
   ],
   "source": [
    "def saddle_points(matrix):\n",
    "    if  not matrix:\n",
    "        return []\n",
    "    num_col=len(matrix[0])\n",
    "    for i in matrix:\n",
    "        if len(i)!=num_col:\n",
    "            raise ValueError(\"irregular matrix\")\n",
    "    row_max=set()\n",
    "    for i,row in enumerate(matrix):\n",
    "        max_value=max(row)\n",
    "        for j,val in enumerate(row):\n",
    "            if val==max_value:\n",
    "                row_max.add((i,j))\n",
    "    col_min=set()\n",
    "    \n",
    "    num_rows=len(matrix)\n",
    "    for j in range(num_col):\n",
    "        col_val=[matrix[i][j] for i in range(num_rows)]\n",
    "        min_value=min(col_val)\n",
    "        for i in range(num_rows):\n",
    "            if matrix[i][j]==min_value:\n",
    "                col_min.add((i,j))\n",
    "\n",
    "    \n",
    "    return [{\"row\": i+1, \"column\": j+1} for (i, j) in row_max & col_min]\n",
    "\n",
    "a=[[1,4,3],[5,6,7],[2,9,0]]\n",
    "saddle_points(a)\n",
    "                \n",
    "            "
   ]
  },
  {
   "cell_type": "code",
   "execution_count": 37,
   "id": "c72efa77",
   "metadata": {},
   "outputs": [
    {
     "name": "stdout",
     "output_type": "stream",
     "text": [
      "5 4\n",
      "1\n",
      "1\n",
      "(1, 1)\n"
     ]
    }
   ],
   "source": [
    "import math\n",
    "n=int(input())\n",
    "m=int(input())\n",
    "print(n,m)\n",
    "print(n//m)\n",
    "print(n%m)\n",
    "print (divmod(n,m))"
   ]
  },
  {
   "cell_type": "code",
   "execution_count": null,
   "id": "89c28345",
   "metadata": {},
   "outputs": [
    {
     "name": "stdout",
     "output_type": "stream",
     "text": [
      "2\n",
      "2\n"
     ]
    }
   ],
   "source": [
    "a=int(input())\n",
    "b=int(input())\n",
    "m=int(input())\n",
    "print(pow(a,b))\n",
    "print(pow(a,b,m))#modular division m---mod "
   ]
  },
  {
   "cell_type": "code",
   "execution_count": null,
   "id": "32f191dd",
   "metadata": {},
   "outputs": [
    {
     "name": "stdout",
     "output_type": "stream",
     "text": [
      "Something happenging before function is called\n",
      "Hi this is function call\n",
      "Some thing after function\n"
     ]
    }
   ],
   "source": [
    "#wrapper decorator\n",
    "def my_decorator(func):\n",
    "    def wrapper(*args,**kwargs):\n",
    "        print(\"Something happenging before function is called\")\n",
    "        result=func(*args,**kwargs)## callling function\n",
    "        print(\"Some thing after function\")\n",
    "        return result\n",
    "    return wrapper\n",
    "def say_hello():\n",
    "    print(\"Hi this is function call\")\n",
    "\n",
    "say_hello=my_decorator(say_hello)\n",
    "say_hello()\n"
   ]
  },
  {
   "cell_type": "code",
   "execution_count": 41,
   "id": "2b588cbc",
   "metadata": {},
   "outputs": [
    {
     "name": "stdout",
     "output_type": "stream",
     "text": [
      "Something happenging before function is called\n",
      "Hi this is function call\n",
      "Some thing after function\n"
     ]
    }
   ],
   "source": [
    "#using @ decorator\n",
    "def my_decorator(func):\n",
    "    def wrapper(*args,**kwargs):\n",
    "        print(\"Something happenging before function is called\")\n",
    "        result=func(*args,**kwargs)## callling function\n",
    "        print(\"Some thing after function\")\n",
    "        return result\n",
    "    return wrapper\n",
    "@my_decorator # this is equal to \n",
    "                #say_hello=my_decorator(say_hello)\n",
    "def say_hello():\n",
    "    print(\"Hi this is function call\")\n",
    "say_hello()"
   ]
  },
  {
   "cell_type": "code",
   "execution_count": 46,
   "id": "00096f41",
   "metadata": {},
   "outputs": [
    {
     "name": "stdout",
     "output_type": "stream",
     "text": [
      "your name is,Jeshwanth\n",
      "your name is,Jeshwanth\n",
      "your name is,Jeshwanth\n"
     ]
    }
   ],
   "source": [
    "# decorators with aurguments \n",
    "def repeat(n):\n",
    "    def my_num(func):\n",
    "        def wrapper(*args,**kwargs):\n",
    "            for i in range(n):\n",
    "                func(*args,**kwargs)\n",
    "        return wrapper\n",
    "    return my_num\n",
    "@repeat(n=3)\n",
    "def great(name):\n",
    "    print(f\"your name is,{name}\")\n",
    "great(\"Jeshwanth\")"
   ]
  },
  {
   "cell_type": "code",
   "execution_count": null,
   "id": "11b4a5c6",
   "metadata": {},
   "outputs": [],
   "source": []
  }
 ],
 "metadata": {
  "kernelspec": {
   "display_name": ".venv",
   "language": "python",
   "name": "python3"
  },
  "language_info": {
   "codemirror_mode": {
    "name": "ipython",
    "version": 3
   },
   "file_extension": ".py",
   "mimetype": "text/x-python",
   "name": "python",
   "nbconvert_exporter": "python",
   "pygments_lexer": "ipython3",
   "version": "3.10.11"
  }
 },
 "nbformat": 4,
 "nbformat_minor": 5
}

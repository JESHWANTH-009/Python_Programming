{
 "cells": [
  {
   "cell_type": "code",
   "execution_count": 2,
   "id": "8cec3fb5",
   "metadata": {},
   "outputs": [
    {
     "data": {
      "text/plain": [
       "[[50, 120, 130], [75, 100, 125]]"
      ]
     },
     "execution_count": 2,
     "metadata": {},
     "output_type": "execute_result"
    }
   ],
   "source": [
    "def triplets_with_sum(number):\n",
    "    triplets = []\n",
    "    for m in range(2,int((number//2)**0.5)+1):\n",
    "        for n in range(1, m):\n",
    "            if (m-n)%2==1 and gcd(m,n)==1: \n",
    "                a=m**2-n**2\n",
    "                b=2*m*n\n",
    "                c=m**2+n**2\n",
    "                total=a+b+c\n",
    "                if number%total==0:\n",
    "                    k=number//total\n",
    "                    triplet=sorted([k*a,k*b,k*c])\n",
    "                    triplets.append(triplet)\n",
    "    return sorted(triplets)\n",
    "\n",
    "def gcd(a,b):\n",
    "    while b:\n",
    "        a,b=b,a%b\n",
    "    return a\n",
    "triplets_with_sum(300)"
   ]
  },
  {
   "cell_type": "code",
   "execution_count": 5,
   "id": "99054244",
   "metadata": {},
   "outputs": [
    {
     "data": {
      "text/plain": [
       "'HC'"
      ]
     },
     "execution_count": 5,
     "metadata": {},
     "output_type": "execute_result"
    }
   ],
   "source": [
    "def abbreviate(words):\n",
    "    a=\"\"\n",
    "    b=False\n",
    "    for i in range(len(words)):\n",
    "        if words[i].isalpha():\n",
    "            if not b:\n",
    "                a+=words[i]\n",
    "                b=True\n",
    "            \n",
    "        elif words[i] in [' ','-']:\n",
    "            b = False\n",
    "            \n",
    "            \n",
    "    \n",
    "    return a.upper()\n",
    "    \n",
    "\n",
    "abbreviate(\"Halley's Comet\")\n"
   ]
  },
  {
   "cell_type": "code",
   "execution_count": 7,
   "id": "d3dd74e0",
   "metadata": {},
   "outputs": [
    {
     "data": {
      "text/plain": [
       "['Leucine', 'Leucine']"
      ]
     },
     "execution_count": 7,
     "metadata": {},
     "output_type": "execute_result"
    }
   ],
   "source": [
    "def proteins(strand):\n",
    "    code={\n",
    "        'AUG':'Methionine',\n",
    "        'UUU':'Phenylalanine', 'UUC': 'Phenylalanine',\n",
    "        'UUA':'Leucine', 'UUG': 'Leucine',\n",
    "        'UCU':'Serine', 'UCC': 'Serine', 'UCA': 'Serine', 'UCG': 'Serine',\n",
    "        'UAU':'Tyrosine', 'UAC': 'Tyrosine',\n",
    "        'UGU':'Cysteine', 'UGC': 'Cysteine',\n",
    "        'UGG': 'Tryptophan',\n",
    "        'UAA':'STOP', 'UAG': 'STOP', 'UGA': 'STOP'\n",
    "    }\n",
    "    a= []\n",
    "\n",
    "    for i in range(0, len(strand) - 2, 3):\n",
    "        b = strand[i:i+3]\n",
    "        if code.get(b) == 'STOP':\n",
    "            break\n",
    "        if b in code:\n",
    "            a.append(code[b])\n",
    "    return a\n",
    "\n",
    "proteins(\"UUAUUG\")"
   ]
  },
  {
   "cell_type": "code",
   "execution_count": 10,
   "id": "6f0d49e5",
   "metadata": {},
   "outputs": [
    {
     "data": {
      "text/plain": [
       "{'a': 1, 'b': 1}"
      ]
     },
     "execution_count": 10,
     "metadata": {},
     "output_type": "execute_result"
    }
   ],
   "source": [
    "def transform(legacy_data):\n",
    "    \n",
    "    l={}\n",
    "    for i,j in legacy_data.items():\n",
    "        for k in j:\n",
    "            l[k.lower()]=i\n",
    "    return l\n",
    "a={1:['A','B']}\n",
    "transform(a)"
   ]
  }
 ],
 "metadata": {
  "kernelspec": {
   "display_name": ".venv",
   "language": "python",
   "name": "python3"
  },
  "language_info": {
   "codemirror_mode": {
    "name": "ipython",
    "version": 3
   },
   "file_extension": ".py",
   "mimetype": "text/x-python",
   "name": "python",
   "nbconvert_exporter": "python",
   "pygments_lexer": "ipython3",
   "version": "3.10.11"
  }
 },
 "nbformat": 4,
 "nbformat_minor": 5
}

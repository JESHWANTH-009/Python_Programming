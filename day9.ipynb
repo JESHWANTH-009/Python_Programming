{
 "cells": [
  {
   "cell_type": "code",
   "execution_count": null,
   "id": "1b71b4db",
   "metadata": {},
   "outputs": [
    {
     "data": {
      "text/plain": [
       "'hatl igda iriy tes  sap '"
      ]
     },
     "execution_count": 2,
     "metadata": {},
     "output_type": "execute_result"
    }
   ],
   "source": [
    "def cipher_text(plain_text):\n",
    "    s=''.join(i for i in plain_text.lower() if i.isalnum())\n",
    "    n=len(s)\n",
    "    if n==0:\n",
    "        return \"\"\n",
    "    r=0\n",
    "    while r*r<n:\n",
    "        r+=1\n",
    "    c=r\n",
    "    if (r-1)*c>=n:\n",
    "        r-=1\n",
    "        \n",
    "    grid=[]\n",
    "    for i in range(0,n,c):\n",
    "        grid.append(s[i:i+c])\n",
    "\n",
    "    result=[]\n",
    "    for col in range(c):\n",
    "        chunk =''\n",
    "        for row in grid:\n",
    "            if col<len(row):\n",
    "                chunk += row[col]\n",
    "            else:\n",
    "                chunk+=' '\n",
    "        result.append(chunk) \n",
    "    \n",
    "    return ' '.join(result)\n",
    "\n",
    "cipher_text(\"hi its a great display\")"
   ]
  },
  {
   "cell_type": "code",
   "execution_count": 3,
   "id": "71db0fd8",
   "metadata": {},
   "outputs": [
    {
     "name": "stdout",
     "output_type": "stream",
     "text": [
      "['For want of a nail the shoe was lost.', 'For want of a shoe the horse was lost.', 'For want of a horse the rider was lost.', 'For want of a rider the message was lost.', 'For want of a message the battle was lost.', 'For want of a battle the kingdom was lost.', 'And all for the want of a nail.']\n"
     ]
    }
   ],
   "source": [
    "def proverb(*items,qualifier=None):\n",
    "    lines = []\n",
    "    for a,b in zip(items,items[1:]):\n",
    "        lines.append(f\"For want of a {a} the {b} was lost.\")\n",
    "    if items:\n",
    "        if qualifier and not qualifier.endswith(items[0]):\n",
    "            qualifier_full=qualifier+\" \"+items[0]\n",
    "        else:\n",
    "            qualifier_full=qualifier or items[0]\n",
    "        lines.append(f\"And all for the want of a {qualifier_full}.\")\n",
    "    return lines\n",
    "print(proverb(\"nail\", \"shoe\", \"horse\", \"rider\", \"message\", \"battle\", \"kingdom\"))"
   ]
  },
  {
   "cell_type": "code",
   "execution_count": 4,
   "id": "1473db5c",
   "metadata": {},
   "outputs": [
    {
     "data": {
      "text/plain": [
       "True"
      ]
     },
     "execution_count": 4,
     "metadata": {},
     "output_type": "execute_result"
    }
   ],
   "source": [
    "#isbn length 10 and divisible by 11 and last digit if X consider as 10\n",
    "def is_valid(isbn):\n",
    "    isbn=isbn.replace(\" \",\"\").replace(\"-\",\"\")\n",
    "    if len(isbn)!=10:\n",
    "        return False\n",
    "    s=0   \n",
    "    for i,j in enumerate(isbn):\n",
    "        m=10-i\n",
    "        if j.isdigit():\n",
    "            d=int(j)\n",
    "        elif j.upper()==\"X\" and i==9:\n",
    "            d=10\n",
    "        else:\n",
    "            return False\n",
    "        s=s+d*m\n",
    "    return s%11==0\n",
    "\n",
    "is_valid('3-598-21507-X')\n",
    "            \n"
   ]
  },
  {
   "cell_type": "code",
   "execution_count": 7,
   "id": "91322840",
   "metadata": {},
   "outputs": [
    {
     "name": "stdout",
     "output_type": "stream",
     "text": [
      "{'wood': 1, 'iron': 2, 'diamond': 2}\n",
      "{'iron': 2, 'diamond': 2, 'wood': 2}\n",
      "{'iron': 1, 'diamond': 3, 'gold': 0}\n",
      "[('coal', 15), ('diamond', 3), ('wood', 67)]\n"
     ]
    }
   ],
   "source": [
    "\"\"\"Functions to keep track and alter inventory.\"\"\"\n",
    "\n",
    "\n",
    "def create_inventory(items):\n",
    "    \n",
    "    \"\"\"Create a dict that tracks the amount (count) of each element on the `items` list.\n",
    "\n",
    "    :param items: list - list of items to create an inventory from.\n",
    "    :return: dict - the inventory dictionary.\n",
    "    \"\"\"\n",
    "    dict={}\n",
    "    for i in items:\n",
    "        if i in dict:\n",
    "            dict[i]+=1\n",
    "        else:\n",
    "            dict[i]=1\n",
    "    \n",
    "    return dict\n",
    "\n",
    "def add_items(inventory, items):\n",
    "    \"\"\"Add or increment items in inventory using elements from the items `list`.\n",
    "\n",
    "    :param inventory: dict - dictionary of existing inventory.\n",
    "    :param items: list - list of items to update the inventory with.\n",
    "    :return: dict - the inventory updated with the new items.\n",
    "    \"\"\"\n",
    "\n",
    "    for i in items:\n",
    "        if i in inventory:\n",
    "            inventory[i]+=1\n",
    "        else:\n",
    "            inventory[i]=1\n",
    "    return inventory\n",
    "\n",
    "\n",
    "def decrement_items(inventory, items):\n",
    "    \"\"\"Decrement items in inventory using elements from the `items` list.\n",
    "\n",
    "    :param inventory: dict - inventory dictionary.\n",
    "    :param items: list - list of items to decrement from the inventory.\n",
    "    :return: dict - updated inventory with items decremented.\n",
    "    \"\"\"\n",
    "\n",
    "    for i in items:\n",
    "        if i in inventory and inventory[i]>0:\n",
    "            inventory[i]-=1\n",
    "    return inventory\n",
    "    \n",
    "\n",
    "def remove_item(inventory, item):\n",
    "    \"\"\"Remove item from inventory if it matches `item` string.\n",
    "\n",
    "    :param inventory: dict - inventory dictionary.\n",
    "    :param item: str - item to remove from the inventory.\n",
    "    :return: dict - updated inventory with item removed. Current inventory if item does not match.\n",
    "    \"\"\"\n",
    "    if item in inventory:\n",
    "        del inventory[item]\n",
    "    return inventory\n",
    "\n",
    "def list_inventory(inventory):\n",
    "    \"\"\"Create a list containing only available (item_name, item_count > 0) pairs in inventory.\n",
    "\n",
    "    :param inventory: dict - an inventory dictionary.\n",
    "    :return: list of tuples - list of key, value pairs from the inventory dictionary.\n",
    "    \"\"\"\n",
    "    l=[]\n",
    "    for key,value in inventory.items():\n",
    "        if value>0:\n",
    "            l.append((key,value))\n",
    "\n",
    "    return l\n",
    "\n",
    "print(create_inventory([\"wood\", \"iron\", \"iron\", \"diamond\", \"diamond\"]))\n",
    "print(add_items({\"iron\": 1, \"diamond\": 2}, [\"iron\", \"wood\", \"wood\"]))\n",
    "print(decrement_items({\"iron\": 3, \"diamond\": 4, \"gold\": 2},\n",
    "                                [\"iron\", \"iron\", \"diamond\", \"gold\", \"gold\"]))\n",
    "print(list_inventory({\"coal\": 15, \"diamond\": 3, \"wood\": 67, \"silver\": 0}))"
   ]
  },
  {
   "cell_type": "code",
   "execution_count": 11,
   "id": "d0769e43",
   "metadata": {},
   "outputs": [
    {
     "name": "stdout",
     "output_type": "stream",
     "text": [
      "9\n"
     ]
    },
    {
     "data": {
      "text/plain": [
       "['black',\n",
       " 'brown',\n",
       " 'red',\n",
       " 'orange',\n",
       " 'yellow',\n",
       " 'green',\n",
       " 'blue',\n",
       " 'violet',\n",
       " 'grey',\n",
       " 'white']"
      ]
     },
     "execution_count": 11,
     "metadata": {},
     "output_type": "execute_result"
    }
   ],
   "source": [
    "color_bands=[\"black\",\"brown\",\"red\",\"orange\",\"yellow\",\"green\",\"blue\",\"violet\",\"grey\",\"white\"]\n",
    "def color_code(color):\n",
    "    return color_bands.index(color.lower())\n",
    "\n",
    "\n",
    "def colors():\n",
    "    return color_bands\n",
    "print(color_code(\"white\"))\n",
    "colors()\n"
   ]
  },
  {
   "cell_type": "code",
   "execution_count": 13,
   "id": "406645a2",
   "metadata": {},
   "outputs": [
    {
     "data": {
      "text/plain": [
       "58"
      ]
     },
     "execution_count": 13,
     "metadata": {},
     "output_type": "execute_result"
    }
   ],
   "source": [
    "a={\"black\":0,\"brown\":1,\"red\": 2,\n",
    "\"orange\": 3,\n",
    "\"yellow\": 4,\n",
    "\"green\": 5,\n",
    "\"blue\": 6,\n",
    "\"violet\": 7,\n",
    "\"grey\": 8,\n",
    "\"white\": 9}\n",
    "def value(colors):\n",
    "    s=\"\"\n",
    "    for i in colors:\n",
    "        if i in a:\n",
    "            s+=str(a[i])\n",
    "        if len(s)>2:\n",
    "            s=s[:-1]\n",
    "            \n",
    "    return int(s)\n",
    "value([\"green\",\"grey\",\"white\"])"
   ]
  },
  {
   "cell_type": "code",
   "execution_count": 16,
   "id": "e0581e68",
   "metadata": {},
   "outputs": [
    {
     "name": "stdout",
     "output_type": "stream",
     "text": [
      "c123b vh\n",
      "x123yes\n"
     ]
    }
   ],
   "source": [
    "def encode(plain_text):\n",
    "    plain_text=\"\".join(i.lower() for i in plain_text if i.isalnum())\n",
    "    s=[]\n",
    "    for i in plain_text:\n",
    "        if i.isalpha():\n",
    "            changed=chr(ord('z')-(ord(i)-ord('a')))\n",
    "            s.append(changed)\n",
    "        else:\n",
    "            s.append(i)\n",
    "\n",
    "    grouped=[''.join(s[i:i+5]) for i in range(0,len(s),5)]\n",
    "    return ' '.join(grouped)\n",
    "    \n",
    "    \n",
    "def decode(ciphered_text):\n",
    "    ciphered_text=\"\".join(i.lower() for i in ciphered_text  if i.isalnum())\n",
    "    s=[]\n",
    "    for i in ciphered_text:\n",
    "        if i.isalpha():\n",
    "            changed=chr(ord('z')-(ord(i)-ord('a')))\n",
    "            s.append(changed)\n",
    "        else:\n",
    "            s.append(i)\n",
    "  \n",
    "    return ''.join(s)\n",
    "\n",
    "print(encode(\"x123 yes\"))\n",
    "print(decode(\"c123b vh\"))"
   ]
  },
  {
   "cell_type": "code",
   "execution_count": 20,
   "id": "c3522963",
   "metadata": {},
   "outputs": [
    {
     "data": {
      "text/plain": [
       "'5 kiloohms'"
      ]
     },
     "execution_count": 20,
     "metadata": {},
     "output_type": "execute_result"
    }
   ],
   "source": [
    "c_bands={\"black\": 0,\n",
    "\"brown\":1,\n",
    "\"red\":2,\n",
    "\"orange\":3,\n",
    "\"yellow\":4,\n",
    "\"green\":5,\n",
    "\"blue\": 6,\n",
    "\"violet\":7,\n",
    "\"grey\":8,\n",
    "\"white\":9}\n",
    "def label(colors):\n",
    "    a=c_bands[colors[0]]\n",
    "    b=c_bands[colors[1]]\n",
    "    c=c_bands[colors[2]]\n",
    "    value=int(f\"{a}{b}\")*(10**c)\n",
    "    if value>=1_000_000_000:\n",
    "        return f\"{value // 1_000_000_000} gigaohms\"\n",
    "    elif value>=1_000_000:\n",
    "        return f\"{value // 1_000_000} megaohms\"\n",
    "    elif value>=1_000:\n",
    "        return f\"{value // 1_000} kiloohms\"\n",
    "    else:\n",
    "        return f\"{value} ohms\"\n",
    "label([\"green\",\"green\",\"red\"])"
   ]
  },
  {
   "cell_type": "code",
   "execution_count": 21,
   "id": "7acb4e55",
   "metadata": {},
   "outputs": [
    {
     "data": {
      "text/plain": [
       "'2 kiloohms ±0.5%'"
      ]
     },
     "execution_count": 21,
     "metadata": {},
     "output_type": "execute_result"
    }
   ],
   "source": [
    "def resistor_label(colors):\n",
    "    c_band={\n",
    "        \"black\": 0, \"brown\": 1, \"red\": 2, \"orange\": 3, \"yellow\": 4,\n",
    "        \"green\": 5, \"blue\": 6, \"violet\": 7, \"grey\": 8, \"white\": 9\n",
    "    }\n",
    "\n",
    "    c_tolerance={\n",
    "        \"grey\": \"±0.05%\", \"violet\": \"±0.1%\", \"blue\": \"±0.25%\", \"green\": \"±0.5%\",\n",
    "        \"brown\": \"±1%\", \"red\": \"±2%\", \"gold\": \"±5%\", \"silver\": \"±10%\"\n",
    "    }\n",
    "\n",
    "    if len(colors)==5:\n",
    "        d1=c_band[colors[0]]\n",
    "        d2=c_band[colors[1]]\n",
    "        d3=c_band[colors[2]]\n",
    "        multiplier=10 ** c_band[colors[3]]\n",
    "        tolerance=c_tolerance.get(colors[4], \"±20%\")  # default if not found\n",
    "        value=int(f\"{d1}{d2}{d3}\") * multiplier\n",
    "    elif len(colors) == 4:\n",
    "        d1=c_band[colors[0]]\n",
    "        d2=c_band[colors[1]]\n",
    "        multiplier=10 ** c_band[colors[2]]\n",
    "        tolerance=c_tolerance.get(colors[3], \"±20%\")\n",
    "        value=int(f\"{d1}{d2}\") * multiplier\n",
    "    elif len(colors)==3:\n",
    "        d1=c_band[colors[0]]\n",
    "        d2=c_band[colors[1]]\n",
    "        multiplier=10 ** c_band[colors[2]]\n",
    "        tolerance=\"\"\n",
    "        value=int(f\"{d1}{d2}\") * multiplier\n",
    "    elif len(colors) == 1:\n",
    "        value=c_band[colors[0]]\n",
    "        tolerance=\"\"\n",
    "    else:\n",
    "        return \"Invalid number of bands\"\n",
    "\n",
    "    if value>=1_000_000_000:\n",
    "        result=f\"{value / 1_000_000_000:.2f}\".rstrip(\"0\").rstrip(\".\") + \" gigaohms\"\n",
    "    elif value>=1_000_000:\n",
    "        result = f\"{value / 1_000_000:.2f}\".rstrip(\"0\").rstrip(\".\") + \" megaohms\"\n",
    "    elif value>=1_000:\n",
    "        result=f\"{value / 1_000:.2f}\".rstrip(\"0\").rstrip(\".\") + \" kiloohms\"\n",
    "    else:\n",
    "        result=f\"{value} ohms\"\n",
    "\n",
    "    if tolerance:\n",
    "        result+=f\" {tolerance}\"\n",
    "    return result\n",
    "resistor_label([\"red\", \"black\", \"red\", \"green\"])"
   ]
  },
  {
   "cell_type": "code",
   "execution_count": null,
   "id": "381e3b15",
   "metadata": {},
   "outputs": [],
   "source": []
  }
 ],
 "metadata": {
  "kernelspec": {
   "display_name": ".venv",
   "language": "python",
   "name": "python3"
  },
  "language_info": {
   "codemirror_mode": {
    "name": "ipython",
    "version": 3
   },
   "file_extension": ".py",
   "mimetype": "text/x-python",
   "name": "python",
   "nbconvert_exporter": "python",
   "pygments_lexer": "ipython3",
   "version": "3.10.11"
  }
 },
 "nbformat": 4,
 "nbformat_minor": 5
}

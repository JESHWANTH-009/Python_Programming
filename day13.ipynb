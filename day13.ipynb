{
 "cells": [
  {
   "cell_type": "code",
   "execution_count": 10,
   "id": "9dff0c27",
   "metadata": {},
   "outputs": [
    {
     "name": "stdout",
     "output_type": "stream",
     "text": [
      "amount deposited is10000 and total balance 10500\n",
      "amount with drawn3000 and Available balance is:7500\n",
      "amount with drawn4000 and Available balance is:3500\n",
      "Jehswanth is holder \n",
      "  balance:3500\n"
     ]
    }
   ],
   "source": [
    "#oops \n",
    "from abc import ABC,abstractmethod\n",
    "## createing Acount for deposite\n",
    "class Account(ABC):\n",
    "    def __init__(self,holder_name,initial_balance=0):\n",
    "        self.holder_name=holder_name\n",
    "        self._balance=initial_balance  ## using as hiding info wrping method and class #_ attribute is protected --with in class subclass\n",
    "        ##__attribute privated not directly accesed accesd using get and set\n",
    "    @abstractmethod\n",
    "    def withdraw(self,amount):\n",
    "        pass\n",
    "\n",
    "    def deposit(self,amount):\n",
    "        if amount>0:\n",
    "            self._balance+=amount\n",
    "            print(f\"amount deposited is{amount} and total balance {self._balance}\")\n",
    "        else:\n",
    "            print(\"invalid deposite amount\")\n",
    "    def get_balance(self): ## get method to get _balance info\n",
    "        return self._balance\n",
    "    \n",
    "    def __str__(self):\n",
    "        return f\"{self.holder_name} is holder \\n  balance:{self._balance}\"\n",
    "    \n",
    "\n",
    "    ## creating saving acount for withdraw\n",
    "class SavingAccount(Account):\n",
    "    def withdraw(self,amount):\n",
    "        if amount<=self._balance:\n",
    "            self._balance-=amount\n",
    "            print(f\"amount with drawn{amount} and Available balance is:{self._balance}\")\n",
    "        else:\n",
    "            print(\"insufficient balance\")\n",
    "#creating check_balance class and trasaction liimit of negative balance\n",
    "class Check_balace(Account):\n",
    "    def __init__(self,initial_balance=0,max_neg_limit=10000):\n",
    "        #initialize parent __init__ using super()\n",
    "        super().__init__(holder_name,initial_balance)## because to get details of holder and initial balace\n",
    "        self.max_neg_limit=max_neg_limit\n",
    "    def withdraw(self, amount):\n",
    "        if self._balance-amount>= -self.max_neg_limit:\n",
    "            self._balance-=amount\n",
    "            print(f\"{self._balance} is available balnce \\n withdrwn amount:{amount}\")\n",
    "        else:\n",
    "            print(\"Unable to do traction due to over limit\")\n",
    "\n",
    "acc1=SavingAccount(\"Jehswanth\",500)\n",
    "acc1.deposit(10000)\n",
    "acc1.withdraw(3000)\n",
    "acc1.withdraw(4000)\n",
    "print(acc1)     \n",
    "\n"
   ]
  },
  {
   "cell_type": "code",
   "execution_count": null,
   "id": "a6506d93",
   "metadata": {},
   "outputs": [],
   "source": []
  }
 ],
 "metadata": {
  "kernelspec": {
   "display_name": ".venv",
   "language": "python",
   "name": "python3"
  },
  "language_info": {
   "codemirror_mode": {
    "name": "ipython",
    "version": 3
   },
   "file_extension": ".py",
   "mimetype": "text/x-python",
   "name": "python",
   "nbconvert_exporter": "python",
   "pygments_lexer": "ipython3",
   "version": "3.10.11"
  }
 },
 "nbformat": 4,
 "nbformat_minor": 5
}

{
 "cells": [
  {
   "cell_type": "code",
   "execution_count": 3,
   "id": "5eeb23f1",
   "metadata": {},
   "outputs": [
    {
     "name": "stdout",
     "output_type": "stream",
     "text": [
      "(630)-314-2612\n",
      "6303142612\n"
     ]
    }
   ],
   "source": [
    "class PhoneNumber:\n",
    "    def __init__(self, number):\n",
    "        for i in number:\n",
    "            if i.isalpha():\n",
    "                raise ValueError(\"letters not permitted\")\n",
    "            \n",
    "            if not i.isdigit() and not i.isspace():\n",
    "                if i not in '()+-.':\n",
    "                    raise ValueError(\"punctuations not permitted\")\n",
    "        n=\"\"\n",
    "        for i in number:\n",
    "            if i.isdigit():\n",
    "                n=n+i\n",
    "            \n",
    "                \n",
    "       \n",
    "        if len(n)==11:\n",
    "            if n[0]=='1':\n",
    "                n=n[1:]\n",
    "            else:\n",
    "                raise ValueError(\"11 digits must start with 1\")\n",
    "        elif len(n)<10:\n",
    "            raise ValueError(\"must not be fewer than 10 digits\")\n",
    "        elif len(n)>11:\n",
    "            raise ValueError(\"must not be greater than 11 digits\")\n",
    "        if n[3]==\"0\":\n",
    "            raise ValueError(\"exchange code cannot start with zero\")\n",
    "        if n[3]==\"1\":\n",
    "            raise ValueError(\"exchange code cannot start with one\")\n",
    "        if n[0]==\"1\":\n",
    "            raise ValueError(\"area code cannot start with one\")\n",
    "        if n[0]==\"0\":\n",
    "            raise ValueError(\"area code cannot start with zero\")\n",
    "        self.number=n\n",
    "        self.area_code = n[:3]\n",
    "    def pretty(self):\n",
    "        \n",
    "        area_code = self.number[:3]\n",
    "        exchange = self.number[3:6]\n",
    "        subscriber = self.number[6:]\n",
    "        return f\"({area_code})-{exchange}-{subscriber}\"\n",
    "    def __str__(self):\n",
    "        return self.number\n",
    "\n",
    "        \n",
    "pno=PhoneNumber(\"6303142612\")\n",
    "print(pno.pretty())\n",
    "print(pno)"
   ]
  },
  {
   "cell_type": "code",
   "execution_count": 9,
   "id": "320bfd6f",
   "metadata": {},
   "outputs": [
    {
     "name": "stdout",
     "output_type": "stream",
     "text": [
      "One for jeshwanth, one for me.\n"
     ]
    },
    {
     "data": {
      "text/plain": [
       "'One for you, one for me.'"
      ]
     },
     "execution_count": 9,
     "metadata": {},
     "output_type": "execute_result"
    }
   ],
   "source": [
    "def two_fer(name=\"you\"):\n",
    "    return f\"One for {name}, one for me.\"\n",
    "name=\"jeshwanth\"\n",
    "print(two_fer(name))\n",
    "two_fer()"
   ]
  },
  {
   "cell_type": "code",
   "execution_count": null,
   "id": "603428aa",
   "metadata": {},
   "outputs": [
    {
     "data": {
      "text/plain": [
       "7919"
      ]
     },
     "execution_count": 17,
     "metadata": {},
     "output_type": "execute_result"
    }
   ],
   "source": [
    "def prime(number):\n",
    "    \n",
    "    if number<1:\n",
    "        raise ValueError('there is no zeroth prime')\n",
    "    n=2\n",
    "    count=0\n",
    "    while True:\n",
    "        isprime=True\n",
    "        \n",
    "\n",
    "        for i in range(2,int(n**0.5)+1):\n",
    "            if n%i==0:\n",
    "                isprime=False\n",
    "                break\n",
    "        if isprime:\n",
    "            count += 1\n",
    "            if count == number:\n",
    "                \n",
    "                return n\n",
    "        n += 1\n",
    "n=int(input())\n",
    "prime(n)\n",
    "        \n",
    "            \n",
    "    \n"
   ]
  },
  {
   "cell_type": "code",
   "execution_count": 20,
   "id": "c2717ffe",
   "metadata": {},
   "outputs": [
    {
     "data": {
      "text/plain": [
       "'SUPERLIST'"
      ]
     },
     "execution_count": 20,
     "metadata": {},
     "output_type": "execute_result"
    }
   ],
   "source": [
    "def sublist(list_one, list_two):\n",
    "    if list_one==list_two:\n",
    "        return \"EQUAL\"\n",
    "    elif (c_sublist(list_one, list_two)):\n",
    "        return \"SUBLIST\"\n",
    "    elif (c_sublist(list_two, list_one)):\n",
    "        return \"SUPERLIST\"\n",
    "    else:\n",
    "        return \"UNEQUAL\"\n",
    "def c_sublist(small,big):\n",
    "    if small ==[]:\n",
    "        return True\n",
    "        #[1,2,3]\n",
    "        #[5,6,1,2,3,4]\n",
    "    for i in range(len(big)-len(small)+1):\n",
    "        if (big[i:i+len(small)]==small):\n",
    "            return True\n",
    "    return False\n",
    "        \n",
    "l1=[2,3,4,5,6,7,1,0]  \n",
    "l2=[4,5,6]\n",
    "sublist(l1,l2)\n"
   ]
  },
  {
   "cell_type": "code",
   "execution_count": 21,
   "id": "a8d28b47",
   "metadata": {},
   "outputs": [
    {
     "data": {
      "text/plain": [
       "30"
      ]
     },
     "execution_count": 21,
     "metadata": {},
     "output_type": "execute_result"
    }
   ],
   "source": [
    "# Score categories.\n",
    "# Change the values as you see fit.\n",
    "YACHT = \"YACHT\"\n",
    "ONES = \"ONES\"\n",
    "TWOS = \"TWOS\"\n",
    "THREES =\"THREES\"\n",
    "FOURS=\"FOURS\"\n",
    "FIVES = \"FIVES\"\n",
    "SIXES =\"SIXES\"\n",
    "FULL_HOUSE =\"FULL_HOUSE\"\n",
    "FOUR_OF_A_KIND =\"FOUR_OF_A_KIND\"\n",
    "LITTLE_STRAIGHT = \"LITTLE_STRAIGHT\"\n",
    "BIG_STRAIGHT = \"BIG_STRAIGHT\"\n",
    "CHOICE = \"CHOICE\"\n",
    "\n",
    "\n",
    "def score(dice, category):\n",
    "    if category==YACHT:\n",
    "        if len(set(dice))==1:\n",
    "            return 50\n",
    "        return 0\n",
    "    elif category==ONES:\n",
    "        return dice.count(1)*1\n",
    "    elif category==TWOS:\n",
    "        return dice.count(2)*2\n",
    "    elif category==THREES:\n",
    "        return dice.count(3)*3\n",
    "    elif category==FIVES:\n",
    "        return dice.count(5)*5\n",
    "    elif category==SIXES:\n",
    "        return dice.count(6)*6\n",
    "    elif category==FOURS:\n",
    "        return dice.count(4)*4\n",
    "    elif category==FULL_HOUSE:\n",
    "        unique=set(dice)\n",
    "        if len(unique)==2:\n",
    "            first=dice.count(dice[0])\n",
    "            if first==2 or first==3:\n",
    "                return sum(dice)\n",
    "        return 0\n",
    "    elif category==FOUR_OF_A_KIND:\n",
    "        for i in dice:\n",
    "            if dice.count(i)>=4:\n",
    "                return 4*i\n",
    "        return 0\n",
    "    elif category==LITTLE_STRAIGHT:\n",
    "        if sorted(dice)==[1,2,3,4,5]:\n",
    "            return 30\n",
    "        return 0\n",
    "        \n",
    "    elif category==BIG_STRAIGHT:\n",
    "        if sorted(dice)==[2,3,4,5,6]:\n",
    "            return 30\n",
    "        return 0\n",
    "    elif category==CHOICE:\n",
    "        return sum(dice)\n",
    "        \n",
    "dice=[2,3,4,5,6]\n",
    "option=BIG_STRAIGHT\n",
    "score(dice,option)"
   ]
  },
  {
   "cell_type": "code",
   "execution_count": 23,
   "id": "20e57dad",
   "metadata": {},
   "outputs": [
    {
     "data": {
      "text/plain": [
       "'one million two hundred fifty-four thousand three hundred seventy-nine'"
      ]
     },
     "execution_count": 23,
     "metadata": {},
     "output_type": "execute_result"
    }
   ],
   "source": [
    "def say(number):\n",
    "    if number<0:\n",
    "        raise ValueError(\"input out of range\")\n",
    "    elif number>999999999999:\n",
    "        raise ValueError(\"input out of range\")\n",
    "    if number==0:\n",
    "        return \"zero\"\n",
    "    ones = [\"\", \"one\", \"two\", \"three\", \"four\", \"five\", \"six\", \"seven\", \"eight\", \"nine\"]\n",
    "    teens = [\"ten\", \"eleven\", \"twelve\", \"thirteen\", \"fourteen\", \"fifteen\",\n",
    "             \"sixteen\", \"seventeen\", \"eighteen\", \"nineteen\"]\n",
    "    tens = [\"\", \"\", \"twenty\", \"thirty\", \"forty\", \"fifty\", \n",
    "            \"sixty\", \"seventy\", \"eighty\", \"ninety\"]\n",
    "    groups = [\"\", \"thousand\", \"million\", \"billion\"]\n",
    "    def word(n):\n",
    "        word=''\n",
    "        if n>=100:\n",
    "            #1200\n",
    "            word += ones[n // 100] + \" hundred\"\n",
    "            n = n % 100\n",
    "            if n:\n",
    "                word += \" \"\n",
    "        if 10 <= n < 20:\n",
    "            word += teens[n - 10]\n",
    "        else:\n",
    "            if n >= 20:\n",
    "                word += tens[n // 10]\n",
    "                if n % 10:\n",
    "                    word += \"-\" + ones[n % 10]\n",
    "            elif n > 0:\n",
    "                word += ones[n]\n",
    "        return word\n",
    "    result = \"\"\n",
    "    group_index = 0\n",
    "\n",
    "    while number > 0:\n",
    "        chunk = number % 1000\n",
    "        if chunk != 0:\n",
    "            text = word(chunk)\n",
    "            if groups[group_index]:\n",
    "                text += \" \" + groups[group_index]\n",
    "            result = text + \" \" + result\n",
    "        number //= 1000\n",
    "        group_index += 1\n",
    "\n",
    "    return result.strip()\n",
    "say(1254379)"
   ]
  },
  {
   "cell_type": "code",
   "execution_count": 27,
   "id": "b651775e",
   "metadata": {},
   "outputs": [
    {
     "name": "stdout",
     "output_type": "stream",
     "text": [
      "(2034, 8, 17, 7, 16, 40)\n"
     ]
    }
   ],
   "source": [
    "def add(moment):\n",
    "    def leap(year):\n",
    "        if (year%400==0) or (year%100!=0 and year%4==0):\n",
    "            return True\n",
    "        return False\n",
    "    def days_month(month,year):\n",
    "        if month==2:\n",
    "            if leap(year):\n",
    "                return 29\n",
    "            else:\n",
    "                return 28\n",
    "        elif month in [4,6,8,10]:\n",
    "            return 30\n",
    "        else:\n",
    "            return 31\n",
    "        \n",
    "        \n",
    "    \n",
    "    year,month,day,hour,min,sec=moment\n",
    "    sec_add=1_000_000_000\n",
    "    sec+=sec_add\n",
    "    min+=sec//60\n",
    "    sec%=60\n",
    "    hour+=min//60\n",
    "    min%=60\n",
    "    day+=hour//24\n",
    "    hour%=24\n",
    "\n",
    "\n",
    "    while True:\n",
    "        dim=days_month(month,year)\n",
    "        if day<=dim:\n",
    "            break\n",
    "        day=day-dim\n",
    "        month+=1\n",
    "        if month>12:\n",
    "            month=1\n",
    "            year+=1\n",
    "    return (year,month,day,hour,min,sec)\n",
    "\n",
    "print(add((2002,12,9,5,30,0)))"
   ]
  },
  {
   "cell_type": "code",
   "execution_count": 31,
   "id": "b489dead",
   "metadata": {},
   "outputs": [
    {
     "name": "stdout",
     "output_type": "stream",
     "text": [
      "2044-08-17 07:16:40\n"
     ]
    }
   ],
   "source": [
    "from datetime import datetime, timedelta\n",
    "def add(moment):\n",
    "    return moment + timedelta(seconds=1_000_000_000)\n",
    "print(add(datetime(2012, 12, 9, 5, 30, 0)))"
   ]
  },
  {
   "cell_type": "code",
   "execution_count": 33,
   "id": "16dfbcf4",
   "metadata": {},
   "outputs": [
    {
     "data": {
      "text/plain": [
       "1009.333"
      ]
     },
     "execution_count": 33,
     "metadata": {},
     "output_type": "execute_result"
    }
   ],
   "source": [
    "def average(array):\n",
    "    l=set(array)\n",
    "    n=len(l)\n",
    "    s=sum(l)\n",
    "    return round(s/n,3)\n",
    "    \n",
    "\n",
    "\n",
    "a=[2,3,4,5,7,77,8,8,8888,90]\n",
    "average(a)"
   ]
  },
  {
   "cell_type": "code",
   "execution_count": 35,
   "id": "ff6e45c0",
   "metadata": {},
   "outputs": [
    {
     "name": "stdout",
     "output_type": "stream",
     "text": [
      "3\n",
      "4\n",
      "6\n",
      "7\n"
     ]
    }
   ],
   "source": [
    "M=int(input())\n",
    "a=set(map(int,input().split()))\n",
    "N=int(input())\n",
    "b=set(map(int,input().split()))\n",
    "c=a.difference(b)\n",
    "d=b.difference(a)\n",
    "e=c.union(d)\n",
    "for i in sorted(e):\n",
    "    print(i)"
   ]
  },
  {
   "cell_type": "code",
   "execution_count": null,
   "id": "d534cc69",
   "metadata": {},
   "outputs": [],
   "source": []
  },
  {
   "cell_type": "code",
   "execution_count": 37,
   "id": "d5038db7",
   "metadata": {},
   "outputs": [
    {
     "name": "stdout",
     "output_type": "stream",
     "text": [
      "3\n",
      "{'china', 'uk', 'usa'}\n"
     ]
    }
   ],
   "source": [
    "n=int(input())\n",
    "a=set()\n",
    "for i in range(n):\n",
    "    c=input().strip()\n",
    "    a.add(c)\n",
    "m=len(a)\n",
    "print(m)\n",
    "print(a)"
   ]
  },
  {
   "cell_type": "code",
   "execution_count": 39,
   "id": "d470eb7c",
   "metadata": {},
   "outputs": [
    {
     "name": "stdout",
     "output_type": "stream",
     "text": [
      "8\n"
     ]
    }
   ],
   "source": [
    "n = int(input())\n",
    "s = set(map(int, input().split()))\n",
    "m=int(input())\n",
    "for i in range(m):\n",
    "    cmd=input().split()\n",
    "    opera=cmd[0]\n",
    "    if opera==\"pop\":\n",
    "        s.pop()\n",
    "    if opera==\"discard\":\n",
    "        s.discard(int(cmd[1]))\n",
    "    if opera==\"remove\":\n",
    "        s.remove(int(cmd[1]))\n",
    "print(sum(s))"
   ]
  }
 ],
 "metadata": {
  "kernelspec": {
   "display_name": ".venv",
   "language": "python",
   "name": "python3"
  },
  "language_info": {
   "codemirror_mode": {
    "name": "ipython",
    "version": 3
   },
   "file_extension": ".py",
   "mimetype": "text/x-python",
   "name": "python",
   "nbconvert_exporter": "python",
   "pygments_lexer": "ipython3",
   "version": "3.10.11"
  }
 },
 "nbformat": 4,
 "nbformat_minor": 5
}

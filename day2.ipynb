{
 "cells": [
  {
   "cell_type": "code",
   "execution_count": 3,
   "id": "4051c028",
   "metadata": {},
   "outputs": [
    {
     "data": {
      "text/plain": [
       "False"
      ]
     },
     "execution_count": 3,
     "metadata": {},
     "output_type": "execute_result"
    }
   ],
   "source": [
    "def equilateral(sides):\n",
    "    if sides[0]+sides[1]>=sides[2] and sides[2]+sides[1]>=sides[0] and sides[2]+sides[0]>=sides[1]:\n",
    "        if sides[0]==sides[1]==sides[2]==0:\n",
    "            return False\n",
    "        elif sides[0]==sides[1]==sides[2]:\n",
    "            return True\n",
    "        else:\n",
    "            return False\n",
    "    \n",
    "    else:\n",
    "        return False\n",
    "        \n",
    "    \n",
    "def isosceles(sides):\n",
    "    if sides[0]+sides[1]>=sides[2] and sides[2]+sides[1]>=sides[0] and sides[2]+sides[0]>=sides[1]:\n",
    "        if sides[0]==sides[1] or sides[1]==sides[2] or sides[0]==sides[2]:\n",
    "            return True\n",
    "        else:\n",
    "            return False\n",
    "    else:\n",
    "        return False\n",
    "def scalene(sides):\n",
    "    if sides[0]+sides[1]>=sides[2] and sides[2]+sides[1]>=sides[0] and sides[2]+sides[0]>=sides[1]:\n",
    "        if sides[0]!=sides[1] !=sides[2] !=sides[0]:\n",
    "            return True\n",
    "        else:\n",
    "            return False\n",
    "    else:\n",
    "        return False\n",
    "    \n",
    "sides=[2,2,3]\n",
    "equilateral(sides)\n"
   ]
  },
  {
   "cell_type": "code",
   "execution_count": 3,
   "id": "db79b0b9",
   "metadata": {},
   "outputs": [
    {
     "name": "stdout",
     "output_type": "stream",
     "text": [
      "8\n",
      "18446744073709551615\n"
     ]
    }
   ],
   "source": [
    "def square(number):\n",
    "    if 0>=number or number>64:\n",
    "        raise  ValueError(\"square must be between 1 and 64\")\n",
    "    else:\n",
    "        s=2**(number-1)\n",
    "        return s\n",
    "def total():\n",
    "    return 2**64-1\n",
    "number=int(input())\n",
    "print(square(number))\n",
    "print(total())"
   ]
  },
  {
   "cell_type": "code",
   "execution_count": null,
   "id": "ec53b10d",
   "metadata": {},
   "outputs": [
    {
     "data": {
      "text/plain": [
       "2"
      ]
     },
     "execution_count": 4,
     "metadata": {},
     "output_type": "execute_result"
    }
   ],
   "source": [
    "#12  6  3  10  5  16  8  4  2  1\n",
    "def steps(number):\n",
    "    count=0\n",
    "\n",
    "    if number<=0:\n",
    "        raise ValueError(\"Only positive integers are allowed\")\n",
    "    \n",
    "    if number==1:\n",
    "        \n",
    "        \n",
    "        return 0\n",
    "        \n",
    "    elif number%2==0:\n",
    "        return 1+steps(number//2)\n",
    "    else:\n",
    "        return 1+steps((3*number)+1)\n",
    "n=int(input())\n",
    "steps(n)\n"
   ]
  },
  {
   "cell_type": "code",
   "execution_count": 7,
   "id": "e253800f",
   "metadata": {},
   "outputs": [
    {
     "data": {
      "text/plain": [
       "\"Calm down, I know what I'm doing!\""
      ]
     },
     "execution_count": 7,
     "metadata": {},
     "output_type": "execute_result"
    }
   ],
   "source": [
    "def response(hey_bob):\n",
    "    hey_bob=hey_bob.strip()\n",
    "    if hey_bob ==\"\":\n",
    "        return \"Fine. Be that way!\" \n",
    "    \n",
    "    elif hey_bob.isupper() is True and hey_bob.endswith(\"?\"):\n",
    "        return \"Calm down, I know what I'm doing!\"\n",
    "    \n",
    "    elif hey_bob.isupper() is True:\n",
    "        return \"Whoa, chill out!\"\n",
    "    elif  hey_bob.endswith(\"?\") or hey_bob.endswith(\"? \")  :\n",
    "        return \"Sure.\"\n",
    "    \n",
    "    #elif hey_bob and hey_bob[-1].isspace() or hey_bob is \"\" :\n",
    "     #   return \"Fine. Be that way!\" \n",
    "    else:\n",
    "        return \"Whatever.\"\n",
    "s=str(input())\n",
    "response(s)"
   ]
  },
  {
   "cell_type": "code",
   "execution_count": 8,
   "id": "b0401c37",
   "metadata": {},
   "outputs": [
    {
     "data": {
      "text/plain": [
       "'deficient'"
      ]
     },
     "execution_count": 8,
     "metadata": {},
     "output_type": "execute_result"
    }
   ],
   "source": [
    "#perfect     abundant     deficient number\n",
    "def classify(number):\n",
    "    \"\"\" A perfect number equals the sum of its positive divisors.\n",
    "\n",
    "    :param number: int a positive integer\n",
    "    :return: str the classification of the input integer\n",
    "    \"\"\"\n",
    "    if number==1:\n",
    "        return \"deficient\"\n",
    "    elif number<=0:\n",
    "        raise ValueError(\"Classification is only possible for positive integers.\")\n",
    "    l=[1]\n",
    "    for i in range(2,(number//2)+1):\n",
    "        if number%i==0:\n",
    "            l.append(i)\n",
    "    n=len(l)\n",
    "    s=0\n",
    "    for i in range(n):\n",
    "        s=s+l[i]\n",
    "    if s==number:\n",
    "        return \"perfect\"\n",
    "\n",
    "        \n",
    "        \n",
    "     \n",
    "    elif s>number:\n",
    "        return \"abundant\"\n",
    "    else:\n",
    "        return  \"deficient\"\n",
    "            \n",
    "n=int(input())\n",
    "classify(n)"
   ]
  },
  {
   "cell_type": "code",
   "execution_count": 10,
   "id": "785eb632",
   "metadata": {},
   "outputs": [
    {
     "data": {
      "text/plain": [
       "'Ygo'"
      ]
     },
     "execution_count": 10,
     "metadata": {},
     "output_type": "execute_result"
    }
   ],
   "source": [
    "def rotation(text,key):\n",
    "    r=\"\"\n",
    "    for i in text:\n",
    "        if \"A\"<=i<=\"Z\":\n",
    "            c=chr((ord(i)-ord(\"A\")+key)%26+ord(\"A\"))\n",
    "            r+=c\n",
    "        elif \"a\"<=i<=\"z\":\n",
    "            c=chr((ord(i)-ord('a')+key)%26+ord(\"a\"))\n",
    "            r+=c\n",
    "        else:\n",
    "            r+=c\n",
    "    return r\n",
    "t=str(input())\n",
    "key=int(input())\n",
    "rotation(t,key)\n"
   ]
  },
  {
   "cell_type": "code",
   "execution_count": 14,
   "id": "427a36a2",
   "metadata": {},
   "outputs": [
    {
     "data": {
      "text/plain": [
       "4"
      ]
     },
     "execution_count": 14,
     "metadata": {},
     "output_type": "execute_result"
    }
   ],
   "source": [
    "\"\"\"Binary Search\"\"\"\n",
    "def find(search_list, value):\n",
    "    low=0\n",
    "    high=len(search_list)-1\n",
    "    while low<=high:\n",
    "        mid=(low+high)//2\n",
    "        if search_list[mid]==value:\n",
    "            return mid\n",
    "        elif search_list[mid]<value:\n",
    "            low=mid+1\n",
    "        else:\n",
    "            high=mid-1\n",
    "    if value not in search_list:\n",
    "        raise ValueError(\"value not in array\")\n",
    "l=[2,3,4,7,8]\n",
    "v=8\n",
    "find(l,v)"
   ]
  },
  {
   "cell_type": "code",
   "execution_count": 17,
   "id": "a438dae3",
   "metadata": {},
   "outputs": [
    {
     "data": {
      "text/plain": [
       "True"
      ]
     },
     "execution_count": 17,
     "metadata": {},
     "output_type": "execute_result"
    }
   ],
   "source": [
    "def is_pangram(sentence):\n",
    "    s=sentence.lower()\n",
    "    \n",
    "    #letters=set(\"abcdefghijklmnopqurstuvwxyz\")\n",
    "    for i in \"abcdefghijklmnopqurstuvwxyz\":\n",
    "        if i not in s:\n",
    "            return False\n",
    "    return True\n",
    "a=str(input())\n",
    "is_pangram(a)\n",
    "            \n"
   ]
  },
  {
   "cell_type": "code",
   "execution_count": 20,
   "id": "ffc2b615",
   "metadata": {},
   "outputs": [
    {
     "data": {
      "text/plain": [
       "[3, 5]"
      ]
     },
     "execution_count": 20,
     "metadata": {},
     "output_type": "execute_result"
    }
   ],
   "source": [
    "def factors(value):\n",
    "    a=[]\n",
    "    i=2\n",
    "    while i*i<=value:\n",
    "        \n",
    "        if value%i==0:\n",
    "            value=value//i\n",
    "            a.append(i)\n",
    "        else:\n",
    "            i+=1\n",
    "    if value>1:\n",
    "        a.append(value)\n",
    "    return a\n",
    "factors(15)"
   ]
  }
 ],
 "metadata": {
  "kernelspec": {
   "display_name": ".venv",
   "language": "python",
   "name": "python3"
  },
  "language_info": {
   "codemirror_mode": {
    "name": "ipython",
    "version": 3
   },
   "file_extension": ".py",
   "mimetype": "text/x-python",
   "name": "python",
   "nbconvert_exporter": "python",
   "pygments_lexer": "ipython3",
   "version": "3.10.11"
  }
 },
 "nbformat": 4,
 "nbformat_minor": 5
}

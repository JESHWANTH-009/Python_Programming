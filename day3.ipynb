{
 "cells": [
  {
   "cell_type": "code",
   "execution_count": 6,
   "id": "fc2a197c",
   "metadata": {},
   "outputs": [
    {
     "data": {
      "text/plain": [
       "1"
      ]
     },
     "execution_count": 6,
     "metadata": {},
     "output_type": "execute_result"
    }
   ],
   "source": [
    "#circle scores on coordinates\n",
    "def score(x, y):\n",
    "    t=(x*x)+(y*y)\n",
    "    if t<=1:\n",
    "        return 10\n",
    "    elif t<=25:\n",
    "        return 5\n",
    "    elif t<=100:\n",
    "        return 1\n",
    "    else:\n",
    "        return 0\n",
    "x=float(input())\n",
    "y=float(input())\n",
    "\n",
    "score(x,y)"
   ]
  },
  {
   "cell_type": "code",
   "execution_count": 12,
   "id": "1c01c52e",
   "metadata": {},
   "outputs": [
    {
     "data": {
      "text/plain": [
       "True"
      ]
     },
     "execution_count": 12,
     "metadata": {},
     "output_type": "execute_result"
    }
   ],
   "source": [
    "def is_isogram(string):\n",
    "    string=string.lower()\n",
    "    s=[i for i in string if i.isalpha()]\n",
    "    \n",
    "    \n",
    "    \n",
    "   \n",
    "    if len(set(s))==len(s) :\n",
    "        return True\n",
    "    else:\n",
    "        return False\n",
    "s=str(input())\n",
    "is_isogram(s)"
   ]
  },
  {
   "cell_type": "code",
   "execution_count": 16,
   "id": "06bf0120",
   "metadata": {},
   "outputs": [
    {
     "data": {
      "text/plain": [
       "12"
      ]
     },
     "execution_count": 16,
     "metadata": {},
     "output_type": "execute_result"
    }
   ],
   "source": [
    "def sum_of_multiples(limit, multiples):\n",
    "    s=set()\n",
    "    for i in multiples:\n",
    "        if i==0:\n",
    "            continue\n",
    "        for j in range(i,limit,i):\n",
    "            s.add(j)\n",
    "    return sum(s)\n",
    "\n",
    "lim=int(input())\n",
    "multiples=[4]\n",
    "sum_of_multiples(lim,multiples)\n"
   ]
  },
  {
   "cell_type": "code",
   "execution_count": null,
   "id": "cd940490",
   "metadata": {},
   "outputs": [
    {
     "name": "stdout",
     "output_type": "stream",
     "text": [
      "['[']\n",
      "[]\n"
     ]
    },
    {
     "data": {
      "text/plain": [
       "True"
      ]
     },
     "execution_count": 35,
     "metadata": {},
     "output_type": "execute_result"
    }
   ],
   "source": [
    "s=(\"[]\")\n",
    "def is_paired(input_string):\n",
    "    s=input_string\n",
    "    l=[]#stack\n",
    "    m={\"}\":'{',')':'(',']':'['}\n",
    "    for i in s:\n",
    "        if i in \"({[\":\n",
    "            l.append(i)\n",
    "        elif i in \"]})\":\n",
    "            if not l or l[-1]!=m[i]:\n",
    "                return False\n",
    "            l.pop()\n",
    "        \n",
    "    return not l\n",
    "\n",
    "is_paired(s)"
   ]
  },
  {
   "cell_type": "code",
   "execution_count": 36,
   "id": "1e0e6d17",
   "metadata": {},
   "outputs": [
    {
     "data": {
      "text/plain": [
       "441"
      ]
     },
     "execution_count": 36,
     "metadata": {},
     "output_type": "execute_result"
    }
   ],
   "source": [
    "def square_of_sum(number):\n",
    "    \n",
    "    s=0\n",
    "    for i in range(number+1):\n",
    "        s=s+i\n",
    "    return s*s\n",
    "\n",
    "def sum_of_squares(number):\n",
    "    x=0\n",
    "    for i in range(number+1):\n",
    "        x=x+(i*i)\n",
    "    return x\n",
    "\n",
    "\n",
    "def difference_of_squares(number):\n",
    "    t=0\n",
    "    p=0\n",
    "    for i in range(number+1):\n",
    "        t=t+i\n",
    "        p=p+(i*i)\n",
    "    t=t*t\n",
    "    return t-p\n",
    "n=int(input())\n",
    "difference_of_squares(n)\n",
    "sum_of_squares(n)\n",
    "square_of_sum(n)"
   ]
  }
 ],
 "metadata": {
  "kernelspec": {
   "display_name": ".venv",
   "language": "python",
   "name": "python3"
  },
  "language_info": {
   "codemirror_mode": {
    "name": "ipython",
    "version": 3
   },
   "file_extension": ".py",
   "mimetype": "text/x-python",
   "name": "python",
   "nbconvert_exporter": "python",
   "pygments_lexer": "ipython3",
   "version": "3.10.11"
  }
 },
 "nbformat": 4,
 "nbformat_minor": 5
}

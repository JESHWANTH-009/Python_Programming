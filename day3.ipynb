{
 "cells": [
  {
   "cell_type": "code",
   "execution_count": 38,
   "id": "fc2a197c",
   "metadata": {},
   "outputs": [
    {
     "data": {
      "text/plain": [
       "5"
      ]
     },
     "execution_count": 38,
     "metadata": {},
     "output_type": "execute_result"
    }
   ],
   "source": [
    "#circle scores on coordinates\n",
    "def score(x, y):\n",
    "    t=(x*x)+(y*y)\n",
    "    if t<=1:\n",
    "        return 10\n",
    "    elif t<=25:\n",
    "        return 5\n",
    "    elif t<=100:\n",
    "        return 1\n",
    "    else:\n",
    "        return 0\n",
    "x=float(input())\n",
    "y=float(input())\n",
    "\n",
    "score(x,y)"
   ]
  },
  {
   "cell_type": "code",
   "execution_count": 39,
   "id": "1c01c52e",
   "metadata": {},
   "outputs": [
    {
     "data": {
      "text/plain": [
       "False"
      ]
     },
     "execution_count": 39,
     "metadata": {},
     "output_type": "execute_result"
    }
   ],
   "source": [
    "def is_isogram(string):\n",
    "    string=string.lower()\n",
    "    s=[i for i in string if i.isalpha()]\n",
    "    \n",
    "    \n",
    "    \n",
    "   \n",
    "    if len(set(s))==len(s) :\n",
    "        return True\n",
    "    else:\n",
    "        return False\n",
    "s=str(input())\n",
    "is_isogram(s)"
   ]
  },
  {
   "cell_type": "code",
   "execution_count": 40,
   "id": "06bf0120",
   "metadata": {},
   "outputs": [
    {
     "data": {
      "text/plain": [
       "4"
      ]
     },
     "execution_count": 40,
     "metadata": {},
     "output_type": "execute_result"
    }
   ],
   "source": [
    "def sum_of_multiples(limit, multiples):\n",
    "    s=set()\n",
    "    for i in multiples:\n",
    "        if i==0:\n",
    "            continue\n",
    "        for j in range(i,limit,i):\n",
    "            s.add(j)\n",
    "    return sum(s)\n",
    "\n",
    "lim=int(input())\n",
    "multiples=[4]\n",
    "sum_of_multiples(lim,multiples)\n"
   ]
  },
  {
   "cell_type": "code",
   "execution_count": 41,
   "id": "cd940490",
   "metadata": {},
   "outputs": [
    {
     "data": {
      "text/plain": [
       "True"
      ]
     },
     "execution_count": 41,
     "metadata": {},
     "output_type": "execute_result"
    }
   ],
   "source": [
    "s=(\"[]\")\n",
    "def is_paired(input_string):\n",
    "    s=input_string\n",
    "    l=[]#stack\n",
    "    m={\"}\":'{',')':'(',']':'['}\n",
    "    for i in s:\n",
    "        if i in \"({[\":\n",
    "            l.append(i)\n",
    "        elif i in \"]})\":\n",
    "            if not l or l[-1]!=m[i]:\n",
    "                return False\n",
    "            l.pop()\n",
    "        \n",
    "    return not l\n",
    "\n",
    "is_paired(s)"
   ]
  },
  {
   "cell_type": "code",
   "execution_count": 42,
   "id": "1e0e6d17",
   "metadata": {},
   "outputs": [
    {
     "data": {
      "text/plain": [
       "100"
      ]
     },
     "execution_count": 42,
     "metadata": {},
     "output_type": "execute_result"
    }
   ],
   "source": [
    "def square_of_sum(number):\n",
    "    \n",
    "    s=0\n",
    "    for i in range(number+1):\n",
    "        s=s+i\n",
    "    return s*s\n",
    "\n",
    "def sum_of_squares(number):\n",
    "    x=0\n",
    "    for i in range(number+1):\n",
    "        x=x+(i*i)\n",
    "    return x\n",
    "\n",
    "\n",
    "def difference_of_squares(number):\n",
    "    t=0\n",
    "    p=0\n",
    "    for i in range(number+1):\n",
    "        t=t+i\n",
    "        p=p+(i*i)\n",
    "    t=t*t\n",
    "    return t-p\n",
    "n=int(input())\n",
    "difference_of_squares(n)\n",
    "sum_of_squares(n)\n",
    "square_of_sum(n)"
   ]
  },
  {
   "cell_type": "code",
   "execution_count": 43,
   "id": "b3b8c3d4",
   "metadata": {},
   "outputs": [
    {
     "data": {
      "text/plain": [
       "{'hi': 2, 'ra': 2, 'what': 1}"
      ]
     },
     "execution_count": 43,
     "metadata": {},
     "output_type": "execute_result"
    }
   ],
   "source": [
    "def count_words(sentence):\n",
    "    \n",
    "    sentence = sentence.lower()\n",
    "    for i in sentence:\n",
    "        if not (i.isalnum() or i == \"'\" or i.isspace()):\n",
    "            sentence = sentence.replace(i, \" \")\n",
    "\n",
    "    words = sentence.split()\n",
    "\n",
    "    dic= {}\n",
    "    for j in words:\n",
    "        if j in dic:\n",
    "            dic[j] += 1\n",
    "        else:\n",
    "            dic[j] = 1\n",
    "\n",
    "    return dic\n",
    "\n",
    "s=\"Hi Ra what Hi Ra\"\n",
    "count_words(s)"
   ]
  },
  {
   "cell_type": "code",
   "execution_count": 45,
   "id": "6ae7c6aa",
   "metadata": {},
   "outputs": [
    {
     "name": "stdout",
     "output_type": "stream",
     "text": [
      "2.41\n"
     ]
    }
   ],
   "source": [
    "class SpaceAge:\n",
    "    def __init__(self, seconds):\n",
    "        self.seconds = seconds\n",
    "        self.earth_year = 31557600\n",
    "        self.orbital_periods = {\n",
    "            'Mercury': 0.2408467,\n",
    "            'Venus': 0.61519726,\n",
    "            'Earth': 1.0,\n",
    "            'Mars': 1.8808158,\n",
    "            'Jupiter': 11.862615,\n",
    "            'Saturn': 29.447498,\n",
    "            'Uranus': 84.016846,\n",
    "            'Neptune': 164.79132\n",
    "        }\n",
    "\n",
    "    def on_earth(self):\n",
    "        return round(self.seconds/(self.orbital_periods['Earth']*self.earth_year),2)\n",
    "\n",
    "    def on_mercury(self):\n",
    "        return round(self.seconds/(self.orbital_periods['Mercury']*self.earth_year),2)\n",
    "\n",
    "    def on_venus(self):\n",
    "        return round(self.seconds/(self.orbital_periods['Venus']*self.earth_year), 2)\n",
    "\n",
    "    def on_mars(self):\n",
    "        return round(self.seconds/(self.orbital_periods['Mars']*self.earth_year), 2)\n",
    "\n",
    "    def on_jupiter(self):\n",
    "        return round(self.seconds/(self.orbital_periods['Jupiter']*self.earth_year), 2)\n",
    "    def on_saturn(self):\n",
    "        return round(self.seconds/(self.orbital_periods['Saturn']*self.earth_year), 2)\n",
    "\n",
    "    def on_uranus(self):\n",
    "        return round(self.seconds/(self.orbital_periods['Uranus']*self.earth_year), 2)\n",
    "\n",
    "    def on_neptune(self):\n",
    "        return round(self.seconds/(self.orbital_periods['Neptune']*self.earth_year), 2)\n",
    "print(SpaceAge(901876382).on_jupiter())"
   ]
  },
  {
   "cell_type": "code",
   "execution_count": 46,
   "id": "dc063076",
   "metadata": {},
   "outputs": [
    {
     "data": {
      "text/plain": [
       "5"
      ]
     },
     "execution_count": 46,
     "metadata": {},
     "output_type": "execute_result"
    }
   ],
   "source": [
    "def square_root(number):\n",
    "    \n",
    "    sr=number**0.5\n",
    "    sr=int(sr)\n",
    "    return sr\n",
    "square_root(35)"
   ]
  },
  {
   "cell_type": "code",
   "execution_count": null,
   "id": "47a732a6",
   "metadata": {},
   "outputs": [
    {
     "data": {
      "text/plain": [
       "[2, 3, 4, 5, 8, 0]"
      ]
     },
     "execution_count": 47,
     "metadata": {},
     "output_type": "execute_result"
    }
   ],
   "source": [
    "def flatten(iterable):\n",
    "    a=[]\n",
    "    for i in  iterable:\n",
    "        if i is None:\n",
    "            continue\n",
    "\n",
    "        if isinstance(i,list):\n",
    "            a.extend(flatten(i))\n",
    "        else:\n",
    "            a.append(i)\n",
    "    return a\n",
    "\n",
    "l=[2,3,[4,5,8,0],None,None]\n",
    "flatten(l)"
   ]
  },
  {
   "cell_type": "code",
   "execution_count": 50,
   "id": "dbc034ba",
   "metadata": {},
   "outputs": [
    {
     "data": {
      "text/plain": [
       "['87', '76', '62']"
      ]
     },
     "execution_count": 50,
     "metadata": {},
     "output_type": "execute_result"
    }
   ],
   "source": [
    "def slices(series, length):\n",
    "    a=[]\n",
    "    \n",
    "    if length > len(series) or length <= 0:\n",
    "        return []\n",
    "    \n",
    "    for i in range(len(series)-length+1):\n",
    "        s=series[i:i+length]\n",
    "        a.append(s)\n",
    "    return a\n",
    "series=\"8762\"\n",
    "length=2\n",
    "slices(series,length)"
   ]
  }
 ],
 "metadata": {
  "kernelspec": {
   "display_name": ".venv",
   "language": "python",
   "name": "python3"
  },
  "language_info": {
   "codemirror_mode": {
    "name": "ipython",
    "version": 3
   },
   "file_extension": ".py",
   "mimetype": "text/x-python",
   "name": "python",
   "nbconvert_exporter": "python",
   "pygments_lexer": "ipython3",
   "version": "3.10.11"
  }
 },
 "nbformat": 4,
 "nbformat_minor": 5
}

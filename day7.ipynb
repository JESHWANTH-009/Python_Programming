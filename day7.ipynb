{
 "cells": [
  {
   "cell_type": "code",
   "execution_count": 4,
   "id": "b82118ce",
   "metadata": {},
   "outputs": [
    {
     "name": "stdout",
     "output_type": "stream",
     "text": [
      "MDCCCXLIX\n"
     ]
    },
    {
     "data": {
      "text/plain": [
       "'XIII'"
      ]
     },
     "execution_count": 4,
     "metadata": {},
     "output_type": "execute_result"
    }
   ],
   "source": [
    "#Roman number\n",
    "def roman(number):\n",
    "    a=\"\"\n",
    "    l=[(1000,'M'),(900,'CM'),(500,'D'),(400,'CD'),(100,'C'),(90,'XC'),(50,'L'),(40,'XL'),(10,'X'),(9,'IX'),(5,'V'),(4,'IV'),(1,'I')]\n",
    "    for i,j in l:\n",
    "        while number>=i:\n",
    "            a+=j\n",
    "            number-=i\n",
    "    return a\n",
    "print(roman(1849))\n",
    "roman(13)\n",
    "\n"
   ]
  },
  {
   "cell_type": "code",
   "execution_count": 5,
   "id": "e86ef959",
   "metadata": {},
   "outputs": [
    {
     "data": {
      "text/plain": [
       "'Hello World'"
      ]
     },
     "execution_count": 5,
     "metadata": {},
     "output_type": "execute_result"
    }
   ],
   "source": [
    "#capital first word\n",
    "def solve(s):\n",
    "    a=\"\"\n",
    "    next_cap=True\n",
    "    for i in s:\n",
    "        if i==\" \":\n",
    "            a+=i\n",
    "            next_cap=True\n",
    "        elif next_cap:\n",
    "            a+=i.upper()\n",
    "            next_cap=False\n",
    "        else:\n",
    "            a+=i\n",
    "    return a\n",
    "solve(\"hello world\")"
   ]
  },
  {
   "cell_type": "code",
   "execution_count": 6,
   "id": "56cdc934",
   "metadata": {},
   "outputs": [
    {
     "data": {
      "text/plain": [
       "{\"that's\": 1, 'the': 1, 'password': 2, '123': 1}"
      ]
     },
     "execution_count": 6,
     "metadata": {},
     "output_type": "execute_result"
    }
   ],
   "source": [
    "def count_words(sentence):\n",
    "    sentence = sentence.lower()\n",
    "    a=[]\n",
    "    for i in sentence:\n",
    "        if  (i.isalnum() or i == \"'\" or i.isspace()):\n",
    "            a.append(i)\n",
    "        else:\n",
    "            a.append(' ')\n",
    "    s=''.join(a)\n",
    "    words = s.split()\n",
    "\n",
    "    dic= {}\n",
    "    for j in words:\n",
    "        j=j.strip(\"'\")\n",
    "        if j:\n",
    "            dic[j]=dic.get(j,0)+1\n",
    "    return dic\n",
    "count_words(\"That's the password: 'PASSWORD 123'!\")"
   ]
  },
  {
   "cell_type": "code",
   "execution_count": 9,
   "id": "ba6901a3",
   "metadata": {},
   "outputs": [
    {
     "name": "stdout",
     "output_type": "stream",
     "text": [
      "1 1 1 1\n",
      "2 2 2 10\n",
      "3 3 3 11\n",
      "4 4 4 100\n",
      "5 5 5 101\n",
      "6 6 6 110\n",
      "7 7 7 111\n",
      "8 10 8 1000\n",
      "9 11 9 1001\n",
      "10 12 A 1010\n"
     ]
    }
   ],
   "source": [
    "#decimal  octal hexadecimal binary\n",
    "def print_formatted(number):\n",
    "    \n",
    "    \n",
    "    for i in range(1,number+1):\n",
    "        print(\n",
    "            f\"{i}\",          \n",
    "            f\"{oct(i)[2:]}\", \n",
    "            f\"{hex(i)[2:].upper()}\",  \n",
    "            f\"{bin(i)[2:]}\"\n",
    "            \n",
    "        )\n",
    "print_formatted(10)"
   ]
  },
  {
   "cell_type": "code",
   "execution_count": 10,
   "id": "f3c4fa4b",
   "metadata": {},
   "outputs": [
    {
     "data": {
      "text/plain": [
       "7"
      ]
     },
     "execution_count": 10,
     "metadata": {},
     "output_type": "execute_result"
    }
   ],
   "source": [
    "def score(word):\n",
    "    s=word.upper()\n",
    "    d={'A':1,'E':1,'I':1,'O':1,'U':1,'L':1,'N':1,'R':1,'S':1,'T':1,\n",
    "      'D':2,'G':2,\n",
    "    'B':3,'C':3,'M':3,'P':3,\n",
    "    'F':4,'H':4,'V':4,'W':4,'Y':4,\n",
    "    'K':5,\n",
    "    'J':8,'X':8,\n",
    "    'Q':10,'Z':10}\n",
    "    t=0\n",
    "    for i in s:\n",
    "        t+=d.get(i,0)\n",
    "    return t\n",
    "    \n",
    "score('app')"
   ]
  },
  {
   "cell_type": "code",
   "execution_count": null,
   "id": "869b58b7",
   "metadata": {},
   "outputs": [],
   "source": []
  }
 ],
 "metadata": {
  "kernelspec": {
   "display_name": ".venv",
   "language": "python",
   "name": "python3"
  },
  "language_info": {
   "codemirror_mode": {
    "name": "ipython",
    "version": 3
   },
   "file_extension": ".py",
   "mimetype": "text/x-python",
   "name": "python",
   "nbconvert_exporter": "python",
   "pygments_lexer": "ipython3",
   "version": "3.10.11"
  }
 },
 "nbformat": 4,
 "nbformat_minor": 5
}
